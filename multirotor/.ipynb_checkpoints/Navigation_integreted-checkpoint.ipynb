{
 "cells": [
  {
   "cell_type": "code",
   "execution_count": 1,
   "metadata": {},
   "outputs": [],
   "source": [
    "# use open cv to show new images from AirSim \n",
    "\n",
    "import setup_path \n",
    "import airsim\n",
    "\n",
    "# requires Python 3.5.3 :: Anaconda 4.4.0\n",
    "\n",
    "# pip install opencv-python\n",
    "import cv2\n",
    "import time\n",
    "import math\n",
    "import sys\n",
    "import numpy as np\n",
    "\n"
   ]
  },
  {
   "cell_type": "code",
   "execution_count": 2,
   "metadata": {},
   "outputs": [],
   "source": [
    "from PIL import Image\n",
    "\n",
    "def getScreenDepthVis():\n",
    "\n",
    "    responses = client.simGetImages([airsim.ImageRequest(0, airsim.ImageType.DepthPerspective, True, False)])\n",
    "    img1d = np.array(responses[0].image_data_float, dtype=np.float)\n",
    "    img1d = 255/np.maximum(np.ones(img1d.size), img1d)\n",
    "    img2d = np.reshape(img1d, (responses[0].height, responses[0].width))\n",
    "\n",
    "    image = np.invert(np.array(Image.fromarray(img2d.astype(np.uint8), mode='L')))\n",
    "\n",
    "    factor = 10\n",
    "    maxIntensity = 255.0 # depends on dtype of image data\n",
    "\n",
    "    # Decrease intensity such that dark pixels become much darker, bright pixels become slightly dark \n",
    "    newImage1 = (maxIntensity)*(image/maxIntensity)**factor\n",
    "    newImage1 = np.array(newImage1,dtype=np.uint8)\n",
    "\n",
    "    #cv2.imshow(\"Test\", newImage1)\n",
    "    #cv2.waitKey(0)\n",
    "\n",
    "    return newImage1"
   ]
  },
  {
   "cell_type": "code",
   "execution_count": 3,
   "metadata": {},
   "outputs": [],
   "source": [
    "import matplotlib.pyplot as plt"
   ]
  },
  {
   "cell_type": "code",
   "execution_count": 4,
   "metadata": {},
   "outputs": [
    {
     "name": "stdout",
     "output_type": "stream",
     "text": [
      "Connected!\n",
      "Client Ver:1 (Min Req: 1), Server Ver:1 (Min Req: 1)\n",
      "\n"
     ]
    }
   ],
   "source": [
    "client = airsim.MultirotorClient()\n",
    "client.confirmConnection()\n",
    "client.enableApiControl(True)\n",
    "client.armDisarm(True)\n",
    "client.takeoffAsync().join()\n",
    "# client.moveByVelocityAsync(0,0,-5,10)\n",
    "# client.hoverAsync()\n",
    "# you must first press \"1\" in the AirSim view to turn on the depth capture\n",
    "\n",
    "# get depth image\n",
    "yaw = 0\n",
    "pi = 3.14159265483\n",
    "vx = 0\n",
    "vy = 0\n",
    "driving = 0\n",
    "help = False"
   ]
  },
  {
   "cell_type": "code",
   "execution_count": 18,
   "metadata": {},
   "outputs": [],
   "source": [
    "curr_position = client.getMultirotorState().kinematics_estimated.position"
   ]
  },
  {
   "cell_type": "code",
   "execution_count": 20,
   "metadata": {},
   "outputs": [
    {
     "data": {
      "text/plain": [
       "0.0"
      ]
     },
     "execution_count": 20,
     "metadata": {},
     "output_type": "execute_result"
    }
   ],
   "source": [
    "position.x_val"
   ]
  },
  {
   "cell_type": "code",
   "execution_count": null,
   "metadata": {},
   "outputs": [],
   "source": []
  },
  {
   "cell_type": "code",
   "execution_count": 5,
   "metadata": {},
   "outputs": [],
   "source": [
    "from PIL import Image\n",
    "\n",
    "responses = client.simGetImages([airsim.ImageRequest(0, airsim.ImageType.DepthPerspective, True, False)])\n",
    "img1d = np.array(responses[0].image_data_float, dtype=np.float)\n",
    "img1d = 255/np.maximum(np.ones(img1d.size), img1d)\n",
    "img2d = np.reshape(img1d, (responses[0].height, responses[0].width))\n",
    "        \n",
    "image = np.invert(np.array(Image.fromarray(img2d.astype(np.uint8), mode='L')))\n",
    "        \n",
    "factor = 10\n",
    "maxIntensity = 255.0 # depends on dtype of image data\n",
    "        \n",
    "        # Decrease intensity such that dark pixels become much darker, bright pixels become slightly dark \n",
    "newImage1 = (maxIntensity)*(image/maxIntensity)**factor\n",
    "newImage1 = np.array(newImage1,dtype=np.uint8)\n",
    "        \n",
    "        #cv2.imshow(\"Test\", newImage1)\n",
    "        #cv2.waitKey(0)\n",
    "        \n",
    "#         return newImage1"
   ]
  },
  {
   "cell_type": "code",
   "execution_count": 21,
   "metadata": {},
   "outputs": [],
   "source": [
    "destination = [200,200]"
   ]
  },
  {
   "cell_type": "code",
   "execution_count": 26,
   "metadata": {},
   "outputs": [
    {
     "data": {
      "text/plain": [
       "5.0"
      ]
     },
     "execution_count": 26,
     "metadata": {},
     "output_type": "execute_result"
    }
   ],
   "source": [
    "np.linalg.norm([4,3])"
   ]
  },
  {
   "cell_type": "code",
   "execution_count": 22,
   "metadata": {},
   "outputs": [
    {
     "data": {
      "text/plain": [
       "0.982793723247329"
      ]
     },
     "execution_count": 22,
     "metadata": {},
     "output_type": "execute_result"
    }
   ],
   "source": [
    "np.arctan(3/2)"
   ]
  },
  {
   "cell_type": "code",
   "execution_count": 7,
   "metadata": {
    "scrolled": true
   },
   "outputs": [
    {
     "name": "stdout",
     "output_type": "stream",
     "text": [
      "max distance= 107\n",
      "distance= 107\n",
      "current position is <Vector3r> {   'x_val': 0.0,\n",
      "    'y_val': 0.0,\n",
      "    'z_val': -2.144453763961792}\n",
      "max distance= 11\n",
      "distance= 11\n",
      "current position is <Vector3r> {   'x_val': 1.0995177030563354,\n",
      "    'y_val': 1.0992708206176758,\n",
      "    'z_val': -8.92257022857666}\n",
      "switching angle 9.933419639708717 0.49250443765304885 0.0862518341373335 <built-in function min> 107 11\n",
      "max distance= 46\n",
      "distance= 46\n",
      "current position is <Vector3r> {   'x_val': 2.891928195953369,\n",
      "    'y_val': 2.1477158069610596,\n",
      "    'z_val': -15.128226280212402}\n",
      "switching angle -12.597965513356463 0.48796225363036033 -0.10905429396396966 <built-in function min> 178 46\n",
      "max distance= 48\n",
      "distance= 48\n",
      "current position is <Vector3r> {   'x_val': 6.0924811363220215,\n",
      "    'y_val': 2.792599678039551,\n",
      "    'z_val': -21.29018211364746}\n",
      "switching angle -50.41509437047681 0.31861048932118763 -0.3853405715656131 <built-in function min> 226 48\n",
      "max distance= 217\n",
      "distance= 217\n",
      "current position is <Vector3r> {   'x_val': 9.731878280639648,\n",
      "    'y_val': 2.6156928539276123,\n",
      "    'z_val': -24.48206901550293}\n",
      "max distance= 209\n",
      "distance= 209\n",
      "current position is <Vector3r> {   'x_val': 15.841506958007812,\n",
      "    'y_val': 2.3934431076049805,\n",
      "    'z_val': -25.023162841796875}\n",
      "max distance= 209\n",
      "distance= 209\n",
      "current position is <Vector3r> {   'x_val': 20.3808536529541,\n",
      "    'y_val': 3.9423325061798096,\n",
      "    'z_val': -25.005332946777344}\n",
      "max distance= 200\n",
      "distance= 200\n",
      "current position is <Vector3r> {   'x_val': 24.105512619018555,\n",
      "    'y_val': 6.35877799987793,\n",
      "    'z_val': -24.997100830078125}\n",
      "max distance= 200\n",
      "distance= 200\n",
      "current position is <Vector3r> {   'x_val': 27.401134490966797,\n",
      "    'y_val': 9.191826820373535,\n",
      "    'z_val': -24.995027542114258}\n",
      "switching angle 84.77190032817823 0.04556049132441671 0.49791991487615533 <built-in function min> 235 200\n",
      "max distance= 209\n",
      "distance= 209\n",
      "current position is <Vector3r> {   'x_val': 28.971412658691406,\n",
      "    'y_val': 11.54084300994873,\n",
      "    'z_val': -24.91635513305664}\n",
      "max distance= 185\n",
      "distance= 185\n",
      "current position is <Vector3r> {   'x_val': 31.530750274658203,\n",
      "    'y_val': 16.428071975708008,\n",
      "    'z_val': -25.01869773864746}\n",
      "switching angle 84.28417931897702 0.04979725182845907 0.4975140537817329 <built-in function min> 235 185\n",
      "max distance= 217\n",
      "distance= 217\n",
      "current position is <Vector3r> {   'x_val': 32.89423370361328,\n",
      "    'y_val': 19.520179748535156,\n",
      "    'z_val': -24.90925407409668}\n",
      "max distance= 164\n",
      "distance= 164\n",
      "current position is <Vector3r> {   'x_val': 35.22053909301758,\n",
      "    'y_val': 25.109939575195312,\n",
      "    'z_val': -25.032073974609375}\n",
      "switching angle 83.5374824074486 0.05627660170300172 0.49682284981747943 <built-in function min> 226 164\n",
      "max distance= 226\n",
      "distance= 226\n",
      "current position is <Vector3r> {   'x_val': 36.53714370727539,\n",
      "    'y_val': 28.460182189941406,\n",
      "    'z_val': -24.909347534179688}\n",
      "max distance= 133\n",
      "distance= 133\n",
      "current position is <Vector3r> {   'x_val': 38.83063888549805,\n",
      "    'y_val': 34.25146484375,\n",
      "    'z_val': -25.0374698638916}\n",
      "switching angle 82.3996661597795 0.06613108284113532 0.4956073848140874 <built-in function min> 226 133\n",
      "max distance= 209\n",
      "distance= 209\n",
      "current position is <Vector3r> {   'x_val': 40.13747024536133,\n",
      "    'y_val': 37.56919479370117,\n",
      "    'z_val': -24.910449981689453}\n",
      "max distance= 170\n",
      "distance= 170\n",
      "current position is <Vector3r> {   'x_val': 42.541507720947266,\n",
      "    'y_val': 43.44112014770508,\n",
      "    'z_val': -25.038049697875977}\n",
      "switching angle 81.13775701134897 0.07702965142417456 0.4940308014703842 <built-in function min> 217 170\n",
      "max distance= 200\n",
      "distance= 200\n",
      "current position is <Vector3r> {   'x_val': 43.83639144897461,\n",
      "    'y_val': 46.53641891479492,\n",
      "    'z_val': -24.91218376159668}\n",
      "switching angle 99.94610418676226 -0.08636086615696129 0.49248533053951915 <built-in function min> 226 200\n",
      "max distance= 217\n",
      "distance= 217\n",
      "current position is <Vector3r> {   'x_val': 44.74167251586914,\n",
      "    'y_val': 50.59884262084961,\n",
      "    'z_val': -24.917068481445312}\n",
      "max distance= 90\n",
      "distance= 90\n",
      "current position is <Vector3r> {   'x_val': 46.30448913574219,\n",
      "    'y_val': 57.21571731567383,\n",
      "    'z_val': -25.057815551757812}\n",
      "switching angle 78.60189830500147 0.09881243112357263 0.4901388614009801 <built-in function min> 178 90\n",
      "max distance= 164\n",
      "distance= 164\n",
      "current position is <Vector3r> {   'x_val': 47.434574127197266,\n",
      "    'y_val': 60.64042282104492,\n",
      "    'z_val': -24.911239624023438}\n",
      "switching angle 114.70397939432296 -0.20896508594800875 0.45423957649542307 <built-in function min> 226 164\n",
      "max distance= 217\n",
      "distance= 217\n",
      "current position is <Vector3r> {   'x_val': 48.00594711303711,\n",
      "    'y_val': 64.83702087402344,\n",
      "    'z_val': -24.939420700073242}\n",
      "max distance= 94\n",
      "distance= 94\n",
      "current position is <Vector3r> {   'x_val': 48.878204345703125,\n",
      "    'y_val': 71.40653228759766,\n",
      "    'z_val': -25.060585021972656}\n",
      "switching angle 75.33482679293421 0.12658497578973416 0.4837109094328062 <built-in function min> 185 94\n",
      "max distance= 178\n",
      "distance= 178\n",
      "current position is <Vector3r> {   'x_val': 49.855552673339844,\n",
      "    'y_val': 74.71082305908203,\n",
      "    'z_val': -24.91009521484375}\n",
      "switching angle 112.17851846805388 -0.1887468148332868 0.4630060905542053 <built-in function min> 226 178\n",
      "max distance= 226\n",
      "distance= 226\n",
      "current position is <Vector3r> {   'x_val': 50.42015075683594,\n",
      "    'y_val': 78.71784210205078,\n",
      "    'z_val': -24.932662963867188}\n",
      "max distance= 90\n",
      "distance= 90\n",
      "current position is <Vector3r> {   'x_val': 51.40159225463867,\n",
      "    'y_val': 85.05537414550781,\n",
      "    'z_val': -25.06235122680664}\n",
      "switching angle 53.441531863718986 0.29782139093416565 0.4016247242165737 <built-in function min> 157 90\n",
      "max distance= 151\n",
      "distance= 151\n",
      "current position is <Vector3r> {   'x_val': 52.83424758911133,\n",
      "    'y_val': 88.33209991455078,\n",
      "    'z_val': -24.9111270904541}\n",
      "switching angle 34.48087213730373 0.4121576170603198 0.28306553781617216 <built-in function min> 193 151\n",
      "max distance= 178\n",
      "distance= 178\n",
      "current position is <Vector3r> {   'x_val': 55.0824089050293,\n",
      "    'y_val': 91.75028991699219,\n",
      "    'z_val': -24.914260864257812}\n",
      "switching angle 17.25496862462631 0.47749711255961597 0.14831219605018814 <built-in function min> 200 178\n",
      "max distance= 170\n",
      "distance= 170\n",
      "current position is <Vector3r> {   'x_val': 58.25770950317383,\n",
      "    'y_val': 94.89813232421875,\n",
      "    'z_val': -24.936010360717773}\n",
      "switching angle -0.10210497472121519 0.49999920605862846 -0.0008910335241561737 <built-in function min> 200 170\n",
      "max distance= 193\n",
      "distance= 193\n",
      "current position is <Vector3r> {   'x_val': 62.17985916137695,\n",
      "    'y_val': 97.30577850341797,\n",
      "    'z_val': -24.9559326171875}\n",
      "max distance= 164\n",
      "distance= 164\n",
      "current position is <Vector3r> {   'x_val': 68.80307006835938,\n",
      "    'y_val': 100.47069549560547,\n",
      "    'z_val': -25.066991806030273}\n",
      "switching angle 13.49965765502731 0.4861856576136644 0.11671977694790504 <built-in function min> 226 164\n",
      "max distance= 217\n",
      "distance= 217\n",
      "current position is <Vector3r> {   'x_val': 72.32945251464844,\n",
      "    'y_val': 102.0093994140625,\n",
      "    'z_val': -24.917251586914062}\n",
      "max distance= 209\n",
      "distance= 209\n",
      "current position is <Vector3r> {   'x_val': 78.47750091552734,\n",
      "    'y_val': 104.5791244506836,\n",
      "    'z_val': -25.04438591003418}\n",
      "switching angle 13.998389006718824 0.4851512640217643 0.12094730678309605 <built-in function min> 226 209\n",
      "max distance= 217\n",
      "distance= 217\n",
      "current position is <Vector3r> {   'x_val': 81.75054168701172,\n",
      "    'y_val': 105.90518951416016,\n",
      "    'z_val': -24.90956687927246}\n",
      "max distance= 200\n",
      "distance= 200\n",
      "current position is <Vector3r> {   'x_val': 87.62434387207031,\n",
      "    'y_val': 108.285400390625,\n",
      "    'z_val': -25.038671493530273}\n",
      "switching angle -2.815260159577341 0.49939654563316144 -0.02455789505771452 <built-in function min> 217 200\n",
      "max distance= 217\n",
      "distance= 217\n",
      "current position is <Vector3r> {   'x_val': 90.79592895507812,\n",
      "    'y_val': 109.30859375,\n",
      "    'z_val': -24.920976638793945}\n",
      "max distance= 178\n",
      "distance= 178\n",
      "current position is <Vector3r> {   'x_val': 96.65979766845703,\n",
      "    'y_val': 111.00357055664062,\n",
      "    'z_val': -25.038026809692383}\n",
      "switching angle -0.8377751579845424 0.49994655070726063 -0.007310706936573436 <built-in function min> 209 178\n",
      "max distance= 209\n",
      "distance= 209\n",
      "current position is <Vector3r> {   'x_val': 99.86328887939453,\n",
      "    'y_val': 111.85950469970703,\n",
      "    'z_val': -24.914806365966797}\n"
     ]
    },
    {
     "name": "stdout",
     "output_type": "stream",
     "text": [
      "max distance= 157\n",
      "distance= 157\n",
      "current position is <Vector3r> {   'x_val': 105.77369689941406,\n",
      "    'y_val': 113.47373962402344,\n",
      "    'z_val': -25.03784942626953}\n",
      "switching angle 1.9131506910085398 0.4997212898723331 0.01669228709109805 <built-in function min> 200 157\n",
      "max distance= 193\n",
      "distance= 193\n",
      "current position is <Vector3r> {   'x_val': 108.89570617675781,\n",
      "    'y_val': 114.3502197265625,\n",
      "    'z_val': -24.913116455078125}\n",
      "switching angle -17.76361516196154 0.4761616640161684 -0.15254530383251266 <built-in function min> 209 193\n",
      "max distance= 193\n",
      "distance= 193\n",
      "current position is <Vector3r> {   'x_val': 112.74883270263672,\n",
      "    'y_val': 114.74004364013672,\n",
      "    'z_val': -24.918230056762695}\n",
      "max distance= 178\n",
      "distance= 178\n",
      "current position is <Vector3r> {   'x_val': 119.2481460571289,\n",
      "    'y_val': 115.52816009521484,\n",
      "    'z_val': -25.05875015258789}\n",
      "switching angle 7.998825263009725 0.49513546100172984 0.06957639871827573 <built-in function min> 200 178\n",
      "max distance= 164\n",
      "distance= 164\n",
      "current position is <Vector3r> {   'x_val': 122.62467193603516,\n",
      "    'y_val': 116.3131103515625,\n",
      "    'z_val': -24.91164207458496}\n",
      "switching angle -28.99726273437567 0.4373214337901888 -0.24238391767543802 <built-in function min> 193 164\n",
      "max distance= 185\n",
      "distance= 185\n",
      "current position is <Vector3r> {   'x_val': 126.55628204345703,\n",
      "    'y_val': 116.5572509765625,\n",
      "    'z_val': -24.938213348388672}\n",
      "max distance= 133\n",
      "distance= 133\n",
      "current position is <Vector3r> {   'x_val': 132.79771423339844,\n",
      "    'y_val': 117.05296325683594,\n",
      "    'z_val': -25.065462112426758}\n",
      "switching angle 72.47473342975427 0.15056317248510367 0.47679212565983187 <built-in function min> 170 133\n",
      "max distance= 133\n",
      "distance= 133\n",
      "current position is <Vector3r> {   'x_val': 135.44888305664062,\n",
      "    'y_val': 118.58404541015625,\n",
      "    'z_val': -24.954816818237305}\n",
      "switching angle 89.68313241614318 0.002765177219968403 0.4999923537364768 <built-in function min> 164 133\n",
      "max distance= 157\n",
      "distance= 157\n",
      "current position is <Vector3r> {   'x_val': 137.61441040039062,\n",
      "    'y_val': 121.55168914794922,\n",
      "    'z_val': -24.933671951293945}\n",
      "max distance= 21\n",
      "distance= 21\n",
      "current position is <Vector3r> {   'x_val': 140.31838989257812,\n",
      "    'y_val': 127.15886688232422,\n",
      "    'z_val': -25.0340518951416}\n",
      "switching angle 102.09769002293218 -0.10478957086734642 0.4888958435469025 <built-in function min> 157 21\n",
      "max distance= 117\n",
      "distance= 117\n",
      "current position is <Vector3r> {   'x_val': 141.26124572753906,\n",
      "    'y_val': 130.53695678710938,\n",
      "    'z_val': -24.926908493041992}\n",
      "max distance= 4\n",
      "distance= 4\n",
      "current position is <Vector3r> {   'x_val': 142.3648681640625,\n",
      "    'y_val': 136.5384521484375,\n",
      "    'z_val': -25.03458023071289}\n",
      "switching angle 101.19197297225077 -0.09704845969836857 0.49049117878935816 <built-in function min> 193 4\n",
      "max distance= 34\n",
      "distance= 34\n",
      "current position is <Vector3r> {   'x_val': 142.79139709472656,\n",
      "    'y_val': 139.95773315429688,\n",
      "    'z_val': -24.915164947509766}\n",
      "switching angle 119.31749703212061 -0.244824371077397 0.4359598918783206 <built-in function min> 117 34\n",
      "max distance= 127\n",
      "distance= 127\n",
      "current position is <Vector3r> {   'x_val': 142.42933654785156,\n",
      "    'y_val': 144.1247100830078,\n",
      "    'z_val': -24.9199275970459}\n",
      "switching angle 82.65239564446624 0.06394434143345186 0.49589426413162124 <built-in function min> 170 127\n",
      "max distance= 151\n",
      "distance= 151\n",
      "current position is <Vector3r> {   'x_val': 141.84580993652344,\n",
      "    'y_val': 148.55032348632812,\n",
      "    'z_val': -24.918519973754883}\n",
      "switching angle 118.47147102093945 -0.23836055822643415 0.4395272964014666 <built-in function min> 217 151\n",
      "max distance= 193\n",
      "distance= 193\n",
      "current position is <Vector3r> {   'x_val': 141.13174438476562,\n",
      "    'y_val': 153.28207397460938,\n",
      "    'z_val': -24.93588638305664}\n",
      "max distance= 76\n",
      "distance= 76\n",
      "current position is <Vector3r> {   'x_val': 140.73336791992188,\n",
      "    'y_val': 159.26010131835938,\n",
      "    'z_val': -25.131427764892578}\n",
      "switching angle 19.327255503634397 0.47182180983798633 0.16548165989379937 <built-in function min> 170 76\n",
      "max distance= 157\n",
      "distance= 157\n",
      "current position is <Vector3r> {   'x_val': 142.08099365234375,\n",
      "    'y_val': 161.32135009765625,\n",
      "    'z_val': -24.954059600830078}\n",
      "max distance= 90\n",
      "distance= 90\n",
      "current position is <Vector3r> {   'x_val': 145.6439666748047,\n",
      "    'y_val': 163.0612335205078,\n",
      "    'z_val': -25.033353805541992}\n",
      "switching angle -19.47557820167905 0.47139184377856047 -0.1667025183344548 <built-in function min> 127 90\n",
      "max distance= 99\n",
      "distance= 99\n",
      "current position is <Vector3r> {   'x_val': 147.93556213378906,\n",
      "    'y_val': 162.80345153808594,\n",
      "    'z_val': -24.912403106689453}\n",
      "switching angle -0.15272128389237893 0.4999982237928271 -0.0013327430427434196 <built-in function min> 144 99\n",
      "max distance= 133\n",
      "distance= 133\n",
      "current position is <Vector3r> {   'x_val': 151.34375,\n",
      "    'y_val': 162.30995178222656,\n",
      "    'z_val': -24.891189575195312}\n",
      "max distance= 72\n",
      "distance= 72\n",
      "current position is <Vector3r> {   'x_val': 156.48057556152344,\n",
      "    'y_val': 160.5439453125,\n",
      "    'z_val': -25.060710906982422}\n",
      "switching angle -131.69753827266234 -0.3325991372730961 -0.3733333816914745 <built-in function min> 107 72\n",
      "max distance= 53\n",
      "distance= 53\n",
      "current position is <Vector3r> {   'x_val': 157.35231018066406,\n",
      "    'y_val': 158.3830108642578,\n",
      "    'z_val': -24.981700897216797}\n",
      "switching angle -165.7862471336977 -0.48469322007485316 -0.1227700387450861 <built-in function min> 157 53\n",
      "max distance= 58\n",
      "distance= 58\n",
      "current position is <Vector3r> {   'x_val': 155.9330291748047,\n",
      "    'y_val': 155.70973205566406,\n",
      "    'z_val': -24.946670532226562}\n",
      "switching angle -199.65915966673165 -0.4708552932706643 0.16821204712801266 <built-in function min> 157 58\n",
      "max distance= 144\n",
      "distance= 144\n",
      "current position is <Vector3r> {   'x_val': 153.06671142578125,\n",
      "    'y_val': 154.21090698242188,\n",
      "    'z_val': -24.951919555664062}\n",
      "switching angle 142.73114573923093 -0.3979013879980476 0.30277794739582203 <built-in function min> 164 144\n",
      "max distance= 144\n",
      "distance= 144\n",
      "current position is <Vector3r> {   'x_val': 149.35704040527344,\n",
      "    'y_val': 154.15301513671875,\n",
      "    'z_val': -24.93965721130371}\n",
      "max distance= 30\n",
      "distance= 30\n",
      "current position is <Vector3r> {   'x_val': 144.2937469482422,\n",
      "    'y_val': 153.80609130859375,\n",
      "    'z_val': -25.063720703125}\n",
      "switching angle -120.05330577744029 -0.2504027500171625 -0.43277992419224165 <built-in function min> 226 30\n",
      "max distance= 94\n",
      "distance= 94\n",
      "current position is <Vector3r> {   'x_val': 141.99778747558594,\n",
      "    'y_val': 151.74029541015625,\n",
      "    'z_val': -24.911632537841797}\n",
      "max distance= 12\n",
      "distance= 12\n",
      "current position is <Vector3r> {   'x_val': 140.2888641357422,\n",
      "    'y_val': 148.11099243164062,\n",
      "    'z_val': -25.051422119140625}\n",
      "switching angle 22.05698970042029 0.4634053952820771 0.18776431935663893 <built-in function min> 34 12\n",
      "max distance= 10\n",
      "distance= 10\n",
      "current position is <Vector3r> {   'x_val': 141.1644744873047,\n",
      "    'y_val': 147.22396850585938,\n",
      "    'z_val': -24.987089157104492}\n",
      "switching angle 59.81036675914506 0.2514317808156741 0.4321829006287255 <built-in function min> 170 10\n",
      "max distance= 79\n",
      "distance= 79\n",
      "current position is <Vector3r> {   'x_val': 143.00112915039062,\n",
      "    'y_val': 147.6455535888672,\n",
      "    'z_val': -24.949634552001953}\n",
      "switching angle 99.80215115599675 -0.08512324797202614 0.4927007536575248 <built-in function min> 170 79\n",
      "max distance= 151\n",
      "distance= 151\n",
      "current position is <Vector3r> {   'x_val': 144.59242248535156,\n",
      "    'y_val': 149.51991271972656,\n",
      "    'z_val': -24.954133987426758}\n",
      "max distance= 76\n",
      "distance= 76\n",
      "current position is <Vector3r> {   'x_val': 147.30450439453125,\n",
      "    'y_val': 153.19822692871094,\n",
      "    'z_val': -25.022979736328125}\n",
      "switching angle 42.08168363793459 0.3710950627966089 0.3350946946282213 <built-in function min> 170 76\n",
      "max distance= 144\n",
      "distance= 144\n",
      "current position is <Vector3r> {   'x_val': 149.43661499023438,\n",
      "    'y_val': 155.01499938964844,\n",
      "    'z_val': -24.903974533081055}\n",
      "max distance= 24\n",
      "distance= 24\n",
      "current position is <Vector3r> {   'x_val': 153.11636352539062,\n",
      "    'y_val': 156.87493896484375,\n",
      "    'z_val': -25.056339263916016}\n",
      "switching angle -116.96129854008322 -0.22669427495530517 -0.44565648845550143 <built-in function min> 55 24\n",
      "max distance= 15\n",
      "distance= 15\n",
      "current position is <Vector3r> {   'x_val': 153.90892028808594,\n",
      "    'y_val': 155.70419311523438,\n",
      "    'z_val': -24.971467971801758}\n",
      "switching angle -150.7512876350955 -0.43625349393412305 -0.24430081667949874 <built-in function min> 76 15\n"
     ]
    },
    {
     "name": "stdout",
     "output_type": "stream",
     "text": [
      "max distance= 23\n",
      "distance= 23\n",
      "current position is <Vector3r> {   'x_val': 152.92864990234375,\n",
      "    'y_val': 153.41221618652344,\n",
      "    'z_val': -24.92735481262207}\n",
      "switching angle -185.39059147558532 -0.49778870234051775 0.04697241554511998 <built-in function min> 139 23\n",
      "max distance= 127\n",
      "distance= 127\n",
      "current position is <Vector3r> {   'x_val': 150.13906860351562,\n",
      "    'y_val': 151.4130096435547,\n",
      "    'z_val': -24.93405532836914}\n",
      "switching angle 140.05626274119078 -0.38333763594152276 0.3210175335877537 <built-in function min> 217 127\n",
      "max distance= 127\n",
      "distance= 127\n",
      "current position is <Vector3r> {   'x_val': 146.6457061767578,\n",
      "    'y_val': 150.9196014404297,\n",
      "    'z_val': -24.961462020874023}\n",
      "switching angle 121.60088029506714 -0.26199949594057304 0.42585944174913587 <built-in function min> 164 127\n",
      "max distance= 185\n",
      "distance= 185\n",
      "current position is <Vector3r> {   'x_val': 143.1215057373047,\n",
      "    'y_val': 151.9857635498047,\n",
      "    'z_val': -24.95542335510254}\n",
      "max distance= 53\n",
      "distance= 53\n",
      "current position is <Vector3r> {   'x_val': 139.6294403076172,\n",
      "    'y_val': 154.11026000976562,\n",
      "    'z_val': -25.097875595092773}\n",
      "switching angle 23.142377701328172 0.45976553064359305 0.19650866859254656 <built-in function min> 157 53\n",
      "max distance= 151\n",
      "distance= 151\n",
      "current position is <Vector3r> {   'x_val': 139.95497131347656,\n",
      "    'y_val': 155.0125274658203,\n",
      "    'z_val': -24.977930068969727}\n",
      "max distance= 79\n",
      "distance= 79\n",
      "current position is <Vector3r> {   'x_val': 142.76022338867188,\n",
      "    'y_val': 156.06619262695312,\n",
      "    'z_val': -24.998720169067383}\n",
      "switching angle 8.703535659872788 0.49424227539343135 0.07566090941776703 <built-in function min> 133 79\n",
      "max distance= 107\n",
      "distance= 107\n",
      "current position is <Vector3r> {   'x_val': 145.1618194580078,\n",
      "    'y_val': 156.26419067382812,\n",
      "    'z_val': -24.901695251464844}\n",
      "switching angle 26.959005073466976 0.445665562340165 0.22667643579345537 <built-in function min> 157 107\n",
      "max distance= 144\n",
      "distance= 144\n",
      "current position is <Vector3r> {   'x_val': 148.59532165527344,\n",
      "    'y_val': 156.96697998046875,\n",
      "    'z_val': -24.894271850585938}\n",
      "max distance= 27\n",
      "distance= 27\n",
      "current position is <Vector3r> {   'x_val': 153.97096252441406,\n",
      "    'y_val': 157.21519470214844,\n",
      "    'z_val': -25.062217712402344}\n",
      "switching angle -113.43168461987294 -0.1988276745264036 -0.45876743110471835 <built-in function min> 66 27\n",
      "max distance= 22\n",
      "distance= 22\n",
      "current position is <Vector3r> {   'x_val': 155.45277404785156,\n",
      "    'y_val': 155.4341278076172,\n",
      "    'z_val': -24.97791290283203}\n",
      "switching angle -147.22649596679898 -0.42040851108000443 -0.2706597195954614 <built-in function min> 66 22\n",
      "max distance= 31\n",
      "distance= 31\n",
      "current position is <Vector3r> {   'x_val': 154.90322875976562,\n",
      "    'y_val': 152.5275421142578,\n",
      "    'z_val': -24.943613052368164}\n",
      "switching angle -181.25597144783865 -0.4998798740358644 0.010959540769956385 <built-in function min> 151 31\n",
      "max distance= 2\n",
      "distance= 2\n",
      "current position is <Vector3r> {   'x_val': 152.37261962890625,\n",
      "    'y_val': 150.04229736328125,\n",
      "    'z_val': -24.94709014892578}\n",
      "switching angle -215.48929140361025 -0.4071120188364643 0.29027539358150617 <built-in function min> 157 2\n",
      "max distance= 0\n",
      "distance= 0\n",
      "current position is <Vector3r> {   'x_val': 149.05812072753906,\n",
      "    'y_val': 149.14561462402344,\n",
      "    'z_val': -24.969079971313477}\n",
      "switching angle 107.65306805432314 -0.1516263089123921 0.47645510013599796 <built-in function min> 151 0\n",
      "max distance= 151\n",
      "distance= 151\n",
      "current position is <Vector3r> {   'x_val': 145.5329132080078,\n",
      "    'y_val': 150.10484313964844,\n",
      "    'z_val': -24.992355346679688}\n",
      "switching angle 71.62610471793917 0.1576083418449472 0.47450986352328467 <built-in function min> 170 151\n",
      "max distance= 151\n",
      "distance= 151\n",
      "current position is <Vector3r> {   'x_val': 143.38270568847656,\n",
      "    'y_val': 152.41390991210938,\n",
      "    'z_val': -25.006732940673828}\n",
      "switching angle 49.82508390747761 0.32256161922028925 0.38203926736133437 <built-in function min> 170 151\n",
      "max distance= 157\n",
      "distance= 157\n",
      "current position is <Vector3r> {   'x_val': 142.71780395507812,\n",
      "    'y_val': 155.69981384277344,\n",
      "    'z_val': -24.9799747467041}\n",
      "max distance= 79\n",
      "distance= 79\n",
      "current position is <Vector3r> {   'x_val': 143.92039489746094,\n",
      "    'y_val': 159.64324951171875,\n",
      "    'z_val': -25.066896438598633}\n",
      "switching angle -0.8186225581238273 0.49994896656844734 -0.007143586434103824 <built-in function min> 127 79\n",
      "max distance= 112\n",
      "distance= 112\n",
      "current position is <Vector3r> {   'x_val': 145.714599609375,\n",
      "    'y_val': 160.5056610107422,\n",
      "    'z_val': -24.93387794494629}\n",
      "switching angle 18.3273001418214 0.4746378797882029 0.15722240002671206 <built-in function min> 151 112\n",
      "max distance= 133\n",
      "distance= 133\n",
      "current position is <Vector3r> {   'x_val': 148.7760467529297,\n",
      "    'y_val': 161.37948608398438,\n",
      "    'z_val': -24.891822814941406}\n",
      "switching angle -0.0007841981732716434 0.49999999995316763 -6.843420055643923e-06 <built-in function min> 144 133\n",
      "max distance= 127\n",
      "distance= 127\n",
      "current position is <Vector3r> {   'x_val': 152.66830444335938,\n",
      "    'y_val': 162.27330017089844,\n",
      "    'z_val': -24.897789001464844}\n",
      "switching angle 18.912294155197568 0.47300791647922247 0.16206020778705946 <built-in function min> 139 127\n",
      "max distance= 122\n",
      "distance= 122\n",
      "current position is <Vector3r> {   'x_val': 157.03306579589844,\n",
      "    'y_val': 163.16229248046875,\n",
      "    'z_val': -24.906814575195312}\n",
      "switching angle -17.807615776581976 0.47604437559810736 -0.15291092982978063 <built-in function min> 139 122\n",
      "max distance= 90\n",
      "distance= 90\n",
      "current position is <Vector3r> {   'x_val': 161.73583984375,\n",
      "    'y_val': 163.79156494140625,\n",
      "    'z_val': -24.943843841552734}\n",
      "switching angle -36.13544658838697 0.4038126086344172 -0.29484805766337857 <built-in function min> 144 90\n",
      "max distance= 60\n",
      "distance= 60\n",
      "current position is <Vector3r> {   'x_val': 166.5259246826172,\n",
      "    'y_val': 163.42811584472656,\n",
      "    'z_val': -24.96920394897461}\n",
      "switching angle -72.06103682501377 0.15400183241959015 -0.4756925851970035 <built-in function min> 133 60\n",
      "max distance= 19\n",
      "distance= 19\n",
      "current position is <Vector3r> {   'x_val': 170.9309844970703,\n",
      "    'y_val': 161.71865844726562,\n",
      "    'z_val': -25.02610206604004}\n",
      "switching angle -90.91502068095988 -0.007984722382811322 -0.4999362401431501 <built-in function min> 122 19\n",
      "max distance= 117\n",
      "distance= 117\n",
      "current position is <Vector3r> {   'x_val': 174.31423950195312,\n",
      "    'y_val': 158.51853942871094,\n",
      "    'z_val': -25.00711441040039}\n",
      "switching angle -54.060325790073264 0.29346656293826734 -0.40481770766259717 <built-in function min> 144 117\n",
      "max distance= 117\n",
      "distance= 117\n",
      "current position is <Vector3r> {   'x_val': 176.9818572998047,\n",
      "    'y_val': 154.75396728515625,\n",
      "    'z_val': -24.924795150756836}\n",
      "switching angle -18.416222394030996 0.4743933012892444 -0.15795884176548078 <built-in function min> 164 117\n",
      "max distance= 76\n",
      "distance= 76\n",
      "current position is <Vector3r> {   'x_val': 180.0355224609375,\n",
      "    'y_val': 151.30824279785156,\n",
      "    'z_val': -24.959882736206055}\n",
      "switching angle 20.76219142296103 0.4675299011516062 0.1772450042431925 <built-in function min> 170 76\n",
      "max distance= 133\n",
      "distance= 133\n",
      "current position is <Vector3r> {   'x_val': 183.87538146972656,\n",
      "    'y_val': 148.90750122070312,\n",
      "    'z_val': -25.032651901245117}\n",
      "switching angle 41.917133562767994 0.3720559031277632 0.334027551180714 <built-in function min> 151 133\n",
      "max distance= 122\n",
      "distance= 122\n",
      "current position is <Vector3r> {   'x_val': 188.06822204589844,\n",
      "    'y_val': 148.1931610107422,\n",
      "    'z_val': -25.022428512573242}\n",
      "switching angle 78.0614228262492 0.10343148371658942 0.48918496315420906 <built-in function min> 193 122\n",
      "max distance= 133\n",
      "distance= 133\n",
      "current position is <Vector3r> {   'x_val': 191.83645629882812,\n",
      "    'y_val': 149.24725341796875,\n",
      "    'z_val': -25.04014778137207}\n",
      "switching angle 97.47518849541564 -0.06504842114287804 0.495750645896522 <built-in function min> 170 133\n",
      "max distance= 170\n",
      "distance= 170\n",
      "current position is <Vector3r> {   'x_val': 194.49366760253906,\n",
      "    'y_val': 151.83804321289062,\n",
      "    'z_val': -25.00065803527832}\n",
      "max distance= 151\n",
      "distance= 151\n",
      "current position is <Vector3r> {   'x_val': 195.929443359375,\n",
      "    'y_val': 156.28543090820312,\n",
      "    'z_val': -25.06707000732422}\n",
      "max distance= 144\n",
      "distance= 144\n",
      "current position is <Vector3r> {   'x_val': 194.20921325683594,\n",
      "    'y_val': 158.1772003173828,\n",
      "    'z_val': -24.993940353393555}\n"
     ]
    },
    {
     "name": "stdout",
     "output_type": "stream",
     "text": [
      "max distance= 133\n",
      "distance= 133\n",
      "current position is <Vector3r> {   'x_val': 190.90902709960938,\n",
      "    'y_val': 158.71649169921875,\n",
      "    'z_val': -24.984895706176758}\n",
      "switching angle -133.5128425788369 -0.3442585738228879 -0.3626100306795597 <built-in function min> 164 133\n",
      "max distance= 127\n",
      "distance= 127\n",
      "current position is <Vector3r> {   'x_val': 188.2121124267578,\n",
      "    'y_val': 157.83932495117188,\n",
      "    'z_val': -24.912057876586914}\n",
      "switching angle -153.74884727371762 -0.44843192150147815 -0.221153367097343 <built-in function min> 144 127\n",
      "max distance= 139\n",
      "distance= 139\n",
      "current position is <Vector3r> {   'x_val': 184.33209228515625,\n",
      "    'y_val': 155.7359161376953,\n",
      "    'z_val': -24.887601852416992}\n",
      "max distance= 107\n",
      "distance= 107\n",
      "current position is <Vector3r> {   'x_val': 177.7301025390625,\n",
      "    'y_val': 152.74105834960938,\n",
      "    'z_val': -25.036699295043945}\n",
      "switching angle -206.52966583915608 -0.44735160767186316 0.22333056018691086 <built-in function min> 193 107\n",
      "max distance= 66\n",
      "distance= 66\n",
      "current position is <Vector3r> {   'x_val': 173.95529174804688,\n",
      "    'y_val': 152.238037109375,\n",
      "    'z_val': -24.93495750427246}\n",
      "switching angle 137.41791441586147 -0.36815434346338494 0.3383228922036521 <built-in function min> 83 66\n",
      "max distance= 16\n",
      "distance= 16\n",
      "current position is <Vector3r> {   'x_val': 169.755859375,\n",
      "    'y_val': 153.1669158935547,\n",
      "    'z_val': -24.92852020263672}\n",
      "switching angle 102.65917237724531 -0.10957550283067966 0.4878454767438187 <built-in function min> 144 16\n",
      "max distance= 127\n",
      "distance= 127\n",
      "current position is <Vector3r> {   'x_val': 166.1259307861328,\n",
      "    'y_val': 155.41810607910156,\n",
      "    'z_val': -24.975156784057617}\n",
      "switching angle 138.2742595489948 -0.37316962423607186 0.33278285945569513 <built-in function min> 157 127\n"
     ]
    },
    {
     "ename": "KeyboardInterrupt",
     "evalue": "",
     "output_type": "error",
     "traceback": [
      "\u001b[1;31m---------------------------------------------------------------------------\u001b[0m",
      "\u001b[1;31mKeyboardInterrupt\u001b[0m                         Traceback (most recent call last)",
      "\u001b[1;32m<ipython-input-7-31e402621f69>\u001b[0m in \u001b[0;36m<module>\u001b[1;34m()\u001b[0m\n\u001b[0;32m     80\u001b[0m \u001b[1;33m\u001b[0m\u001b[0m\n\u001b[0;32m     81\u001b[0m         \u001b[1;31m#print (\"distance=\", current)\u001b[0m\u001b[1;33m\u001b[0m\u001b[1;33m\u001b[0m\u001b[0m\n\u001b[1;32m---> 82\u001b[1;33m         \u001b[0mclient\u001b[0m\u001b[1;33m.\u001b[0m\u001b[0mmoveByVelocityZAsync\u001b[0m\u001b[1;33m(\u001b[0m\u001b[0mfly_speed\u001b[0m\u001b[1;33m*\u001b[0m\u001b[0mvx\u001b[0m\u001b[1;33m,\u001b[0m \u001b[0mfly_speed\u001b[0m\u001b[1;33m*\u001b[0m\u001b[0mvy\u001b[0m\u001b[1;33m,\u001b[0m\u001b[1;33m-\u001b[0m\u001b[1;36m25\u001b[0m\u001b[1;33m,\u001b[0m \u001b[1;36m1\u001b[0m\u001b[1;33m,\u001b[0m \u001b[0mairsim\u001b[0m\u001b[1;33m.\u001b[0m\u001b[0mDrivetrainType\u001b[0m\u001b[1;33m.\u001b[0m\u001b[0mForwardOnly\u001b[0m\u001b[1;33m,\u001b[0m \u001b[0mairsim\u001b[0m\u001b[1;33m.\u001b[0m\u001b[0mYawMode\u001b[0m\u001b[1;33m(\u001b[0m\u001b[1;32mFalse\u001b[0m\u001b[1;33m,\u001b[0m \u001b[1;36m0\u001b[0m\u001b[1;33m)\u001b[0m\u001b[1;33m)\u001b[0m\u001b[1;33m.\u001b[0m\u001b[0mjoin\u001b[0m\u001b[1;33m(\u001b[0m\u001b[1;33m)\u001b[0m\u001b[1;33m\u001b[0m\u001b[0m\n\u001b[0m\u001b[0;32m     83\u001b[0m \u001b[1;33m\u001b[0m\u001b[0m\n\u001b[0;32m     84\u001b[0m         \u001b[0mx\u001b[0m \u001b[1;33m=\u001b[0m \u001b[0mint\u001b[0m\u001b[1;33m(\u001b[0m\u001b[0mdriving\u001b[0m \u001b[1;33m*\u001b[0m \u001b[1;36m50\u001b[0m\u001b[1;33m)\u001b[0m\u001b[1;33m\u001b[0m\u001b[0m\n",
      "\u001b[1;32m~\\AppData\\Roaming\\Python\\Python36\\site-packages\\msgpackrpc\\future.py\u001b[0m in \u001b[0;36mjoin\u001b[1;34m(self)\u001b[0m\n\u001b[0;32m     20\u001b[0m     \u001b[1;32mdef\u001b[0m \u001b[0mjoin\u001b[0m\u001b[1;33m(\u001b[0m\u001b[0mself\u001b[0m\u001b[1;33m)\u001b[0m\u001b[1;33m:\u001b[0m\u001b[1;33m\u001b[0m\u001b[0m\n\u001b[0;32m     21\u001b[0m         \u001b[1;32mwhile\u001b[0m \u001b[1;33m(\u001b[0m\u001b[1;32mnot\u001b[0m \u001b[0mself\u001b[0m\u001b[1;33m.\u001b[0m\u001b[0m_set_flag\u001b[0m\u001b[1;33m)\u001b[0m\u001b[1;33m:\u001b[0m\u001b[1;33m\u001b[0m\u001b[0m\n\u001b[1;32m---> 22\u001b[1;33m             \u001b[0mself\u001b[0m\u001b[1;33m.\u001b[0m\u001b[0m_loop\u001b[0m\u001b[1;33m.\u001b[0m\u001b[0mstart\u001b[0m\u001b[1;33m(\u001b[0m\u001b[1;33m)\u001b[0m\u001b[1;33m\u001b[0m\u001b[0m\n\u001b[0m\u001b[0;32m     23\u001b[0m \u001b[1;33m\u001b[0m\u001b[0m\n\u001b[0;32m     24\u001b[0m     \u001b[1;32mdef\u001b[0m \u001b[0mget\u001b[0m\u001b[1;33m(\u001b[0m\u001b[0mself\u001b[0m\u001b[1;33m)\u001b[0m\u001b[1;33m:\u001b[0m\u001b[1;33m\u001b[0m\u001b[0m\n",
      "\u001b[1;32m~\\AppData\\Roaming\\Python\\Python36\\site-packages\\msgpackrpc\\loop.py\u001b[0m in \u001b[0;36mstart\u001b[1;34m(self)\u001b[0m\n\u001b[0;32m     20\u001b[0m         \"\"\"\n\u001b[0;32m     21\u001b[0m \u001b[1;33m\u001b[0m\u001b[0m\n\u001b[1;32m---> 22\u001b[1;33m         \u001b[0mself\u001b[0m\u001b[1;33m.\u001b[0m\u001b[0m_ioloop\u001b[0m\u001b[1;33m.\u001b[0m\u001b[0mstart\u001b[0m\u001b[1;33m(\u001b[0m\u001b[1;33m)\u001b[0m\u001b[1;33m\u001b[0m\u001b[0m\n\u001b[0m\u001b[0;32m     23\u001b[0m \u001b[1;33m\u001b[0m\u001b[0m\n\u001b[0;32m     24\u001b[0m     \u001b[1;32mdef\u001b[0m \u001b[0mstop\u001b[0m\u001b[1;33m(\u001b[0m\u001b[0mself\u001b[0m\u001b[1;33m)\u001b[0m\u001b[1;33m:\u001b[0m\u001b[1;33m\u001b[0m\u001b[0m\n",
      "\u001b[1;32m~\\AppData\\Roaming\\Python\\Python36\\site-packages\\tornado\\ioloop.py\u001b[0m in \u001b[0;36mstart\u001b[1;34m(self)\u001b[0m\n\u001b[0;32m    861\u001b[0m \u001b[1;33m\u001b[0m\u001b[0m\n\u001b[0;32m    862\u001b[0m                 \u001b[1;32mtry\u001b[0m\u001b[1;33m:\u001b[0m\u001b[1;33m\u001b[0m\u001b[0m\n\u001b[1;32m--> 863\u001b[1;33m                     \u001b[0mevent_pairs\u001b[0m \u001b[1;33m=\u001b[0m \u001b[0mself\u001b[0m\u001b[1;33m.\u001b[0m\u001b[0m_impl\u001b[0m\u001b[1;33m.\u001b[0m\u001b[0mpoll\u001b[0m\u001b[1;33m(\u001b[0m\u001b[0mpoll_timeout\u001b[0m\u001b[1;33m)\u001b[0m\u001b[1;33m\u001b[0m\u001b[0m\n\u001b[0m\u001b[0;32m    864\u001b[0m                 \u001b[1;32mexcept\u001b[0m \u001b[0mException\u001b[0m \u001b[1;32mas\u001b[0m \u001b[0me\u001b[0m\u001b[1;33m:\u001b[0m\u001b[1;33m\u001b[0m\u001b[0m\n\u001b[0;32m    865\u001b[0m                     \u001b[1;31m# Depending on python version and IOLoop implementation,\u001b[0m\u001b[1;33m\u001b[0m\u001b[1;33m\u001b[0m\u001b[0m\n",
      "\u001b[1;32m~\\AppData\\Roaming\\Python\\Python36\\site-packages\\tornado\\platform\\select.py\u001b[0m in \u001b[0;36mpoll\u001b[1;34m(self, timeout)\u001b[0m\n\u001b[0;32m     61\u001b[0m     \u001b[1;32mdef\u001b[0m \u001b[0mpoll\u001b[0m\u001b[1;33m(\u001b[0m\u001b[0mself\u001b[0m\u001b[1;33m,\u001b[0m \u001b[0mtimeout\u001b[0m\u001b[1;33m)\u001b[0m\u001b[1;33m:\u001b[0m\u001b[1;33m\u001b[0m\u001b[0m\n\u001b[0;32m     62\u001b[0m         readable, writeable, errors = select.select(\n\u001b[1;32m---> 63\u001b[1;33m             self.read_fds, self.write_fds, self.error_fds, timeout)\n\u001b[0m\u001b[0;32m     64\u001b[0m         \u001b[0mevents\u001b[0m \u001b[1;33m=\u001b[0m \u001b[1;33m{\u001b[0m\u001b[1;33m}\u001b[0m\u001b[1;33m\u001b[0m\u001b[0m\n\u001b[0;32m     65\u001b[0m         \u001b[1;32mfor\u001b[0m \u001b[0mfd\u001b[0m \u001b[1;32min\u001b[0m \u001b[0mreadable\u001b[0m\u001b[1;33m:\u001b[0m\u001b[1;33m\u001b[0m\u001b[0m\n",
      "\u001b[1;31mKeyboardInterrupt\u001b[0m: "
     ]
    }
   ],
   "source": [
    "destination = [150,150]\n",
    "fly_speed=10\n",
    "turn_speed=0.5\n",
    "thrust_speed = 0.2\n",
    "while True:\n",
    "    # this will return png width= 256, height= 144\n",
    "    \n",
    "    result = client.simGetImage(\"0\", airsim.ImageType.DepthVis)\n",
    "    if (result == \"\\0\"):\n",
    "        if (not help):\n",
    "            help = True\n",
    "            print(\"Please press '1' in the AirSim view to enable the Depth camera view\")\n",
    "    else:    \n",
    "#         rawImage = np.fromstring(result, np.int8)\n",
    "#         print(\"rawImage is\",rawImage)\n",
    "#         png = cv2.imdecode(rawImage, cv2.IMREAD_UNCHANGED)\n",
    "#         gray = cv2.cvtColor(png, cv2.COLOR_BGR2GRAY)\n",
    "        gray = getScreenDepthVis()\n",
    "        # slice the image so we only check what we are headed into (and not what is down on the ground below us).\n",
    "        top = np.vstack((np.vsplit(gray, 3)[0],np.vsplit(gray, 3)[1]))\n",
    "        #top = np.vsplit(gray, 3)[0]\n",
    "\n",
    "        # now look at 4 horizontal bands (far left, left, right, far right) and see which is most open.\n",
    "        # the depth map uses black for close (0) and white for far away(255), so we invert that\n",
    "        # to get an estimate of distance.\n",
    "        bands = np.hsplit(top, [50,100,150,200]);\n",
    "        mins = [np.min(x) for x in bands]\n",
    "        max = np.argmax(mins)    \n",
    "        distance = mins[max]\n",
    "\n",
    "        # sanity check on what is directly in front of us (slot 2 in our hsplit)\n",
    "        current = mins[2]\n",
    "        print (\"max distance=\", current)\n",
    "        print (\"distance=\", current)\n",
    "        print(\"current position is\",client.getMultirotorState().kinematics_estimated.position)\n",
    "#         if (current <20):\n",
    "#             client.hoverAsync().join()\n",
    "#             airsim.wait_key(\"whoops - we are about to crash, so stopping!\")\n",
    "        \n",
    "        pitch, roll, yaw  = airsim.to_eularian_angles(client.simGetVehiclePose().orientation)\n",
    "        \n",
    "        if (distance > current + 10):\n",
    "        \n",
    "            # we have a 90 degree field of view (pi/2), we've sliced that into 5 chunks, each chunk then represents\n",
    "            # an angular delta of the following pi/10.\n",
    "            change = 0\n",
    "            driving = max\n",
    "            if (max == 0):\n",
    "                change = -2 * pi / 10\n",
    "            elif (max == 1):\n",
    "                change = -pi / 10\n",
    "            elif (max == 2):\n",
    "                change = 0 # center strip, go straight\n",
    "            elif (max == 3):\n",
    "                change = pi / 10\n",
    "            else:\n",
    "                change = 2*pi/10\n",
    "    \n",
    "            yaw = (yaw + change)\n",
    "            vx = turn_speed*math.cos(yaw);\n",
    "            vy = turn_speed*math.sin(yaw);\n",
    "            print (\"switching angle\", math.degrees(yaw), vx, vy, min, distance, current)\n",
    "            #client.getMultirotorState().kinematics_estimated.position\n",
    "            #print(\"current position is\",client.getMultirotorState().kinematics_estimated.position)\n",
    "            \n",
    "        else:\n",
    "            curr_position = client.getMultirotorState().kinematics_estimated.position\n",
    "            distance_x = destination[0]-curr_position.x_val\n",
    "            distance_y = destination[1]-curr_position.y_val\n",
    "            norm = np.linalg.norm([distance_x,distance_y])\n",
    "            if (norm<10):client.landAsync().join()\n",
    "            vx = thrust_speed*distance_x/norm\n",
    "            vy = thrust_speed*distance_y/norm\n",
    "            client.moveByVelocityZAsync(fly_speed*vx, fly_speed*vy,-25, 1, airsim.DrivetrainType.ForwardOnly, airsim.YawMode(False, 0)).join()\n",
    "\n",
    "            \n",
    "    \n",
    "        if (vx == 0 and vy == 0):\n",
    "            vx = math.cos(yaw);\n",
    "            vy = math.sin(yaw);\n",
    "\n",
    "        #print (\"distance=\", current)\n",
    "        client.moveByVelocityZAsync(fly_speed*vx, fly_speed*vy,-25, 1, airsim.DrivetrainType.ForwardOnly, airsim.YawMode(False, 0)).join()\n",
    "\n",
    "        x = int(driving * 50)\n",
    "        cv2.rectangle(gray, (x,0), (x+50,50), (0,255,0), 2)\n",
    "        cv2.imshow(\"Top\", top)\n",
    "\n",
    "    key = cv2.waitKey(1) & 0xFF;\n",
    "    if (key == 27 or key == ord('q') or key == ord('x')):\n",
    "        break;\n",
    "        \n"
   ]
  },
  {
   "cell_type": "code",
   "execution_count": 8,
   "metadata": {},
   "outputs": [
    {
     "ename": "RuntimeError",
     "evalue": "IOLoop is already running",
     "output_type": "error",
     "traceback": [
      "\u001b[1;31m---------------------------------------------------------------------------\u001b[0m",
      "\u001b[1;31mRuntimeError\u001b[0m                              Traceback (most recent call last)",
      "\u001b[1;32m<ipython-input-8-2a8a624a8b9e>\u001b[0m in \u001b[0;36m<module>\u001b[1;34m()\u001b[0m\n\u001b[1;32m----> 1\u001b[1;33m \u001b[0mclient\u001b[0m\u001b[1;33m.\u001b[0m\u001b[0mlandAsync\u001b[0m\u001b[1;33m(\u001b[0m\u001b[1;33m)\u001b[0m\u001b[1;33m.\u001b[0m\u001b[0mjoin\u001b[0m\u001b[1;33m(\u001b[0m\u001b[1;33m)\u001b[0m\u001b[1;33m\u001b[0m\u001b[0m\n\u001b[0m",
      "\u001b[1;32m~\\AppData\\Roaming\\Python\\Python36\\site-packages\\msgpackrpc\\future.py\u001b[0m in \u001b[0;36mjoin\u001b[1;34m(self)\u001b[0m\n\u001b[0;32m     20\u001b[0m     \u001b[1;32mdef\u001b[0m \u001b[0mjoin\u001b[0m\u001b[1;33m(\u001b[0m\u001b[0mself\u001b[0m\u001b[1;33m)\u001b[0m\u001b[1;33m:\u001b[0m\u001b[1;33m\u001b[0m\u001b[0m\n\u001b[0;32m     21\u001b[0m         \u001b[1;32mwhile\u001b[0m \u001b[1;33m(\u001b[0m\u001b[1;32mnot\u001b[0m \u001b[0mself\u001b[0m\u001b[1;33m.\u001b[0m\u001b[0m_set_flag\u001b[0m\u001b[1;33m)\u001b[0m\u001b[1;33m:\u001b[0m\u001b[1;33m\u001b[0m\u001b[0m\n\u001b[1;32m---> 22\u001b[1;33m             \u001b[0mself\u001b[0m\u001b[1;33m.\u001b[0m\u001b[0m_loop\u001b[0m\u001b[1;33m.\u001b[0m\u001b[0mstart\u001b[0m\u001b[1;33m(\u001b[0m\u001b[1;33m)\u001b[0m\u001b[1;33m\u001b[0m\u001b[0m\n\u001b[0m\u001b[0;32m     23\u001b[0m \u001b[1;33m\u001b[0m\u001b[0m\n\u001b[0;32m     24\u001b[0m     \u001b[1;32mdef\u001b[0m \u001b[0mget\u001b[0m\u001b[1;33m(\u001b[0m\u001b[0mself\u001b[0m\u001b[1;33m)\u001b[0m\u001b[1;33m:\u001b[0m\u001b[1;33m\u001b[0m\u001b[0m\n",
      "\u001b[1;32m~\\AppData\\Roaming\\Python\\Python36\\site-packages\\msgpackrpc\\loop.py\u001b[0m in \u001b[0;36mstart\u001b[1;34m(self)\u001b[0m\n\u001b[0;32m     20\u001b[0m         \"\"\"\n\u001b[0;32m     21\u001b[0m \u001b[1;33m\u001b[0m\u001b[0m\n\u001b[1;32m---> 22\u001b[1;33m         \u001b[0mself\u001b[0m\u001b[1;33m.\u001b[0m\u001b[0m_ioloop\u001b[0m\u001b[1;33m.\u001b[0m\u001b[0mstart\u001b[0m\u001b[1;33m(\u001b[0m\u001b[1;33m)\u001b[0m\u001b[1;33m\u001b[0m\u001b[0m\n\u001b[0m\u001b[0;32m     23\u001b[0m \u001b[1;33m\u001b[0m\u001b[0m\n\u001b[0;32m     24\u001b[0m     \u001b[1;32mdef\u001b[0m \u001b[0mstop\u001b[0m\u001b[1;33m(\u001b[0m\u001b[0mself\u001b[0m\u001b[1;33m)\u001b[0m\u001b[1;33m:\u001b[0m\u001b[1;33m\u001b[0m\u001b[0m\n",
      "\u001b[1;32m~\\AppData\\Roaming\\Python\\Python36\\site-packages\\tornado\\ioloop.py\u001b[0m in \u001b[0;36mstart\u001b[1;34m(self)\u001b[0m\n\u001b[0;32m    753\u001b[0m     \u001b[1;32mdef\u001b[0m \u001b[0mstart\u001b[0m\u001b[1;33m(\u001b[0m\u001b[0mself\u001b[0m\u001b[1;33m)\u001b[0m\u001b[1;33m:\u001b[0m\u001b[1;33m\u001b[0m\u001b[0m\n\u001b[0;32m    754\u001b[0m         \u001b[1;32mif\u001b[0m \u001b[0mself\u001b[0m\u001b[1;33m.\u001b[0m\u001b[0m_running\u001b[0m\u001b[1;33m:\u001b[0m\u001b[1;33m\u001b[0m\u001b[0m\n\u001b[1;32m--> 755\u001b[1;33m             \u001b[1;32mraise\u001b[0m \u001b[0mRuntimeError\u001b[0m\u001b[1;33m(\u001b[0m\u001b[1;34m\"IOLoop is already running\"\u001b[0m\u001b[1;33m)\u001b[0m\u001b[1;33m\u001b[0m\u001b[0m\n\u001b[0m\u001b[0;32m    756\u001b[0m         \u001b[0mself\u001b[0m\u001b[1;33m.\u001b[0m\u001b[0m_setup_logging\u001b[0m\u001b[1;33m(\u001b[0m\u001b[1;33m)\u001b[0m\u001b[1;33m\u001b[0m\u001b[0m\n\u001b[0;32m    757\u001b[0m         \u001b[1;32mif\u001b[0m \u001b[0mself\u001b[0m\u001b[1;33m.\u001b[0m\u001b[0m_stopped\u001b[0m\u001b[1;33m:\u001b[0m\u001b[1;33m\u001b[0m\u001b[0m\n",
      "\u001b[1;31mRuntimeError\u001b[0m: IOLoop is already running"
     ]
    }
   ],
   "source": [
    "client.landAsync().join()"
   ]
  },
  {
   "cell_type": "code",
   "execution_count": null,
   "metadata": {},
   "outputs": [],
   "source": []
  },
  {
   "cell_type": "code",
   "execution_count": null,
   "metadata": {},
   "outputs": [],
   "source": []
  },
  {
   "cell_type": "code",
   "execution_count": null,
   "metadata": {},
   "outputs": [],
   "source": [
    "plt.imshow(newImage1,plt.cm.gray)"
   ]
  },
  {
   "cell_type": "code",
   "execution_count": null,
   "metadata": {},
   "outputs": [],
   "source": [
    "response=client.simGetImages([airsim.ImageRequest(0, airsim.ImageType.DepthPlanner, pixels_as_float=True)])[0]"
   ]
  },
  {
   "cell_type": "code",
   "execution_count": null,
   "metadata": {},
   "outputs": [],
   "source": [
    "depth = np.array(response.image_data_float)\n",
    "depth = depth.reshape(response.height, response.width)\n",
    "#depth = np.array(depth * 255, dtype=np.uint8)\n"
   ]
  },
  {
   "cell_type": "code",
   "execution_count": null,
   "metadata": {},
   "outputs": [],
   "source": [
    " np.array(response.image_data_float)[160:180]"
   ]
  },
  {
   "cell_type": "code",
   "execution_count": null,
   "metadata": {},
   "outputs": [],
   "source": [
    "result = client.simGetImage(\"0\", airsim.ImageType.Segmentation)\n",
    "\n",
    "rawImage = np.fromstring(result, np.int8)\n",
    "png = cv2.imdecode(rawImage, cv2.IMREAD_UNCHANGED)\n",
    "gray = cv2.cvtColor(png, cv2.COLOR_BGR2GRAY)"
   ]
  },
  {
   "cell_type": "code",
   "execution_count": null,
   "metadata": {},
   "outputs": [],
   "source": [
    "plt.imshow(png)"
   ]
  },
  {
   "cell_type": "code",
   "execution_count": null,
   "metadata": {},
   "outputs": [],
   "source": []
  },
  {
   "cell_type": "code",
   "execution_count": null,
   "metadata": {},
   "outputs": [],
   "source": [
    " np.array(depth * 255, dtype=np.uint8)"
   ]
  },
  {
   "cell_type": "code",
   "execution_count": null,
   "metadata": {},
   "outputs": [],
   "source": [
    "depth = np.array(response.image_data_float)\n",
    "depth = depth.reshape(response.height, response.width)"
   ]
  },
  {
   "cell_type": "code",
   "execution_count": null,
   "metadata": {},
   "outputs": [],
   "source": [
    "depth [0][160:180]"
   ]
  },
  {
   "cell_type": "code",
   "execution_count": null,
   "metadata": {},
   "outputs": [],
   "source": [
    "plt.imshow(depth,plt.cm.gray)"
   ]
  },
  {
   "cell_type": "code",
   "execution_count": null,
   "metadata": {},
   "outputs": [],
   "source": [
    "img1d = np.fromstring(response.image_data_uint8, dtype=np.uint8)\n",
    "#img_rgb = img1d.reshape(response.height, response.width, 3) # reshape array to 3 channel image array H X W X 3\n",
    "cv2.imwrite(\"./try.png\", img1d) # write to png "
   ]
  },
  {
   "cell_type": "code",
   "execution_count": null,
   "metadata": {},
   "outputs": [],
   "source": [
    "img1d = np.fromstring(response.image_data_uint8, dtype=np.uint8) # get numpy array\n",
    "img_rgb = img1d.reshape(response.height, response.width, 3) # reshape array to 3 channel image array H X W X 3"
   ]
  },
  {
   "cell_type": "code",
   "execution_count": null,
   "metadata": {},
   "outputs": [],
   "source": [
    "len(img1d)"
   ]
  },
  {
   "cell_type": "code",
   "execution_count": null,
   "metadata": {},
   "outputs": [],
   "source": [
    "result_scene =client.simGetImage(\"0\", airsim.ImageType.Scene)\n",
    "rawImage = np.fromstring(result_scene, np.int8)"
   ]
  },
  {
   "cell_type": "code",
   "execution_count": null,
   "metadata": {},
   "outputs": [],
   "source": [
    "len(rawImage)"
   ]
  },
  {
   "cell_type": "code",
   "execution_count": null,
   "metadata": {},
   "outputs": [],
   "source": [
    "response=(client.simGetImages([airsim.ImageRequest(0, airsim.ImageType.DepthVis)])[0])"
   ]
  },
  {
   "cell_type": "code",
   "execution_count": null,
   "metadata": {},
   "outputs": [],
   "source": [
    "tmp=client.simGetImages([airsim.ImageRequest(0, airsim.ImageType.DepthVis,False, False)])[0].image_data_uint8"
   ]
  },
  {
   "cell_type": "code",
   "execution_count": null,
   "metadata": {},
   "outputs": [],
   "source": [
    "tmp=client.simGetImages([airsim.ImageRequest(0, airsim.ImageType.DepthVis, pixels_as_float=True)])[0]"
   ]
  },
  {
   "cell_type": "code",
   "execution_count": null,
   "metadata": {},
   "outputs": [],
   "source": [
    "rawImage = np.fromstring(tmp, np.int8)"
   ]
  },
  {
   "cell_type": "code",
   "execution_count": null,
   "metadata": {},
   "outputs": [],
   "source": [
    "rawImage = np.frombuffer(tmp, np.int8)"
   ]
  },
  {
   "cell_type": "code",
   "execution_count": null,
   "metadata": {},
   "outputs": [],
   "source": [
    "tmp"
   ]
  },
  {
   "cell_type": "code",
   "execution_count": null,
   "metadata": {},
   "outputs": [],
   "source": [
    "plt.imshow(gray)"
   ]
  },
  {
   "cell_type": "code",
   "execution_count": null,
   "metadata": {},
   "outputs": [],
   "source": [
    "png = cv2.imdecode(rawImage, cv2.IMREAD_UNCHANGED)\n",
    "gray = cv2.cvtColor(png, cv2.COLOR_BGR2GRAY)"
   ]
  },
  {
   "cell_type": "code",
   "execution_count": null,
   "metadata": {},
   "outputs": [],
   "source": [
    "color = cv2.cvtColor(depth, cv2.COLOR_GRAY2RNG)"
   ]
  },
  {
   "cell_type": "code",
   "execution_count": null,
   "metadata": {},
   "outputs": [],
   "source": [
    "depth[0]"
   ]
  },
  {
   "cell_type": "code",
   "execution_count": null,
   "metadata": {},
   "outputs": [],
   "source": [
    "depth = np.array(response.image_data_float)\n",
    "depth = depth.reshape(response.height, response.width)\n",
    "#depth = np.array(depth * 253, dtype=np.uint8)"
   ]
  },
  {
   "cell_type": "code",
   "execution_count": null,
   "metadata": {},
   "outputs": [],
   "source": [
    "depth"
   ]
  },
  {
   "cell_type": "code",
   "execution_count": null,
   "metadata": {},
   "outputs": [],
   "source": [
    "(depth * 255)[0][160:180]"
   ]
  },
  {
   "cell_type": "code",
   "execution_count": null,
   "metadata": {},
   "outputs": [],
   "source": [
    "plt.imshow(depth,)"
   ]
  },
  {
   "cell_type": "code",
   "execution_count": null,
   "metadata": {},
   "outputs": [],
   "source": [
    "response.image_data_float[160:180]"
   ]
  },
  {
   "cell_type": "code",
   "execution_count": null,
   "metadata": {},
   "outputs": [],
   "source": [
    "depth[0]"
   ]
  },
  {
   "cell_type": "code",
   "execution_count": null,
   "metadata": {},
   "outputs": [],
   "source": [
    "depth[0][160:180]"
   ]
  },
  {
   "cell_type": "code",
   "execution_count": null,
   "metadata": {},
   "outputs": [],
   "source": [
    "png = cv2.imdecode(rawImage, cv2.IMREAD_UNCHANGED)"
   ]
  },
  {
   "cell_type": "code",
   "execution_count": null,
   "metadata": {},
   "outputs": [],
   "source": [
    "response.image_data_uint8"
   ]
  },
  {
   "cell_type": "code",
   "execution_count": null,
   "metadata": {},
   "outputs": [],
   "source": [
    "plt.imshow(depth,plt.cm.gray)"
   ]
  },
  {
   "cell_type": "code",
   "execution_count": null,
   "metadata": {},
   "outputs": [],
   "source": [
    "result_scene =client.simGetImage(\"0\", airsim.ImageType.Scene)\n",
    "rawImage = np.fromstring(result_scene, np.int8)\n",
    "png = cv2.imdecode(rawImage, cv2.IMREAD_UNCHANGED)"
   ]
  },
  {
   "cell_type": "code",
   "execution_count": null,
   "metadata": {},
   "outputs": [],
   "source": [
    "result =client.simGetImage(\"4\", airsim.ImageType.DepthPlanner)\n",
    "rawImage = np.fromstring(result, np.int8)\n",
    "png = cv2.imdecode(rawImage, cv2.IMREAD_UNCHANGED)\n",
    "gray = cv2.cvtColor(png, cv2.COLOR_BGR2GRAY)"
   ]
  },
  {
   "cell_type": "code",
   "execution_count": null,
   "metadata": {},
   "outputs": [],
   "source": [
    "rawImage=np.int8(np.ones(np.size(rawImage))*0)+rawImage"
   ]
  },
  {
   "cell_type": "code",
   "execution_count": null,
   "metadata": {},
   "outputs": [],
   "source": [
    "np.unique(png)"
   ]
  },
  {
   "cell_type": "code",
   "execution_count": null,
   "metadata": {},
   "outputs": [],
   "source": [
    "rawImage=np.ones(np.size(rawImage))*0+rawImage\n",
    "png = cv2.imdecode(rawImage, cv2.IMREAD_UNCHANGED)\n",
    "##gray = cv2.cvtColor(png, cv2.COLOR_BGR2GRAY)"
   ]
  },
  {
   "cell_type": "code",
   "execution_count": null,
   "metadata": {},
   "outputs": [],
   "source": [
    "response=client.simGetImages([airsim.ImageRequest(0, airsim.ImageType.DepthPlanner,False, False)])[0]\n",
    "img1d = np.fromstring(response.image_data_uint8, dtype=np.uint8) # get numpy array\n",
    "img_rgb = img1d.reshape(response.height, response.width, 3) # reshape array to 4 channel image array H X W X 3\n",
    "cv2.imwrite(os.path.normpath(filename + '.png'), img_rgb) # write to png"
   ]
  },
  {
   "cell_type": "code",
   "execution_count": null,
   "metadata": {},
   "outputs": [],
   "source": [
    "cv2.imwrite(\"./try2.png\",response.image_data_uint8)"
   ]
  },
  {
   "cell_type": "code",
   "execution_count": null,
   "metadata": {},
   "outputs": [],
   "source": []
  },
  {
   "cell_type": "code",
   "execution_count": null,
   "metadata": {},
   "outputs": [],
   "source": [
    "fh = open(\"./try2.png\", \"wb\")\n",
    "fh.write(response.image_data_uint8)\n",
    "fh.close()"
   ]
  },
  {
   "cell_type": "code",
   "execution_count": null,
   "metadata": {},
   "outputs": [],
   "source": [
    "png = cv2.imdecode(img1d, cv2.IMREAD_UNCHANGED)"
   ]
  },
  {
   "cell_type": "code",
   "execution_count": null,
   "metadata": {},
   "outputs": [],
   "source": [
    "np.unique(png)"
   ]
  },
  {
   "cell_type": "code",
   "execution_count": null,
   "metadata": {},
   "outputs": [],
   "source": [
    "# call airsim\n",
    "responses = client.simGetImages([airsim.ImageRequest(0, airsim.ImageType.Scene, True)])\n",
    "response = responses[0]\n",
    "# convert to grayscale\n",
    "depth = np.array(response.image_data_float, dtype=np.float32)\n",
    "depth = depth.reshape(response.height, response.width)\n",
    "depth = np.array(depth * 255, dtype=np.uint8)\n",
    "# save pic\n",
    "# cv2.imwrite('./depth.png'.format(name_folder, t), depth)"
   ]
  },
  {
   "cell_type": "code",
   "execution_count": null,
   "metadata": {},
   "outputs": [],
   "source": [
    "cv2.imwrite(\"./filename.png\", depth) "
   ]
  },
  {
   "cell_type": "code",
   "execution_count": null,
   "metadata": {},
   "outputs": [],
   "source": [
    "rawImage = np.fromstring(tmp, np.int8)"
   ]
  },
  {
   "cell_type": "code",
   "execution_count": null,
   "metadata": {},
   "outputs": [],
   "source": []
  },
  {
   "cell_type": "code",
   "execution_count": null,
   "metadata": {},
   "outputs": [],
   "source": [
    "result_depth = client.simGetImage(\"0\", airsim.ImageType.DepthVis)\n",
    "rawImage = np.fromstring(result_depth, np.int8)"
   ]
  },
  {
   "cell_type": "code",
   "execution_count": null,
   "metadata": {},
   "outputs": [],
   "source": [
    "np.size(rawImage)"
   ]
  },
  {
   "cell_type": "code",
   "execution_count": null,
   "metadata": {},
   "outputs": [],
   "source": []
  },
  {
   "cell_type": "code",
   "execution_count": null,
   "metadata": {},
   "outputs": [],
   "source": [
    "result_DepthPlanner = client.simGetImage(\"0\", airsim.ImageType.DepthPlanner)"
   ]
  },
  {
   "cell_type": "code",
   "execution_count": null,
   "metadata": {},
   "outputs": [],
   "source": [
    "# result_DepthPlanner = client.simGetImage(\"0\", airsim.ImageType.DepthPlanner)\n",
    "result_DepthPlanner=client.simGetImages([airsim.ImageRequest(0, airsim.ImageType.DepthPlanner, pixels_as_float=True)])"
   ]
  },
  {
   "cell_type": "code",
   "execution_count": null,
   "metadata": {},
   "outputs": [],
   "source": [
    "rawImage = np.fromstring(result_DepthPlanner, np.int8)"
   ]
  },
  {
   "cell_type": "code",
   "execution_count": null,
   "metadata": {},
   "outputs": [],
   "source": [
    "result_DisparityNormalized = client.simGetImage(\"0\", airsim.ImageType.DisparityNormalized)\n",
    "rawImage = np.fromstring(result_DisparityNormalized, np.int8)"
   ]
  },
  {
   "cell_type": "code",
   "execution_count": null,
   "metadata": {},
   "outputs": [],
   "source": [
    "result_Segmentation  = client.simGetImage(\"0\", airsim.ImageType.Segmentation)\n",
    "rawImage = np.fromstring(result_Segmentation, np.int8)"
   ]
  },
  {
   "cell_type": "code",
   "execution_count": null,
   "metadata": {},
   "outputs": [],
   "source": [
    "rawImage = np.fromstring(result_DepthPlanner, np.int8)"
   ]
  },
  {
   "cell_type": "code",
   "execution_count": null,
   "metadata": {},
   "outputs": [],
   "source": [
    "png = cv2.imdecode(rawImage, cv2.IMREAD_GRAYSCALE)\n",
    "# gray = cv2.cvtColor(png, cv2.COLOR_BGR2GRAY)"
   ]
  },
  {
   "cell_type": "code",
   "execution_count": null,
   "metadata": {},
   "outputs": [],
   "source": [
    "plt.imshow(png)"
   ]
  },
  {
   "cell_type": "code",
   "execution_count": null,
   "metadata": {},
   "outputs": [],
   "source": [
    "# call airsim\n",
    "responses = client.simGetImages([airsim.ImageRequest(0, airsim.ImageType.DepthVis, True)])\n",
    "response = responses[0]\n",
    "# convert to grayscale\n",
    "depth = np.array(response.image_data_float, dtype=np.float32)\n",
    "depth = depth.reshape(response.height, response.width)\n",
    "depth = np.array(depth * 255, dtype=np.uint8)\n",
    "# save pic\n",
    "# cv2.imwrite('{}/depth{}.png'.format(self.name_folder, self.t), depth)"
   ]
  },
  {
   "cell_type": "code",
   "execution_count": null,
   "metadata": {},
   "outputs": [],
   "source": [
    "plt.imshow(depth)"
   ]
  },
  {
   "cell_type": "code",
   "execution_count": null,
   "metadata": {},
   "outputs": [],
   "source": [
    "np.size(rawImage)"
   ]
  },
  {
   "cell_type": "code",
   "execution_count": null,
   "metadata": {},
   "outputs": [],
   "source": [
    "np.reshape(rawImage,[2,2389])"
   ]
  },
  {
   "cell_type": "code",
   "execution_count": null,
   "metadata": {},
   "outputs": [],
   "source": [
    "len(rawImage)/2"
   ]
  },
  {
   "cell_type": "code",
   "execution_count": null,
   "metadata": {},
   "outputs": [],
   "source": [
    "plt.imshow(png)"
   ]
  },
  {
   "cell_type": "code",
   "execution_count": null,
   "metadata": {},
   "outputs": [],
   "source": [
    "import numpy as np\n",
    "import urllib\n",
    "import cv2\n",
    "\n",
    "url = 'http://www.pyimagesearch.com/wp-content/uploads/2015/01/google_logo.png'\n",
    "resp = urllib.urlopen(url)\n",
    "image = np.asarray(bytearray(resp.read()), dtype=\"uint8\")\n",
    "image = cv2.imdecode(image, cv2.IMREAD_COLOR)\n",
    "cv2.imshow('URL2Image',image)"
   ]
  },
  {
   "cell_type": "code",
   "execution_count": null,
   "metadata": {},
   "outputs": [],
   "source": [
    "plt.imshow(png)"
   ]
  },
  {
   "cell_type": "code",
   "execution_count": null,
   "metadata": {},
   "outputs": [],
   "source": [
    "top = np.vsplit(gray, 3)[0]"
   ]
  },
  {
   "cell_type": "code",
   "execution_count": null,
   "metadata": {},
   "outputs": [],
   "source": [
    "np.vsplit(gray, 2)"
   ]
  },
  {
   "cell_type": "code",
   "execution_count": null,
   "metadata": {},
   "outputs": [],
   "source": []
  },
  {
   "cell_type": "code",
   "execution_count": null,
   "metadata": {},
   "outputs": [],
   "source": [
    "bands = np.hsplit(top, [50,100,150,200]);"
   ]
  },
  {
   "cell_type": "code",
   "execution_count": null,
   "metadata": {},
   "outputs": [],
   "source": [
    "        maxes = [np.max(x) for x in bands]\n",
    "        min = np.argmin(maxes)    \n",
    "        distance = 255 - maxes[min]\n",
    "\n",
    "        # sanity check on what is directly in front of us (slot 2 in our hsplit)\n",
    "        current = 255 - maxes[2]"
   ]
  },
  {
   "cell_type": "code",
   "execution_count": null,
   "metadata": {},
   "outputs": [],
   "source": [
    "plt.imshow(bands[5])"
   ]
  },
  {
   "cell_type": "code",
   "execution_count": null,
   "metadata": {},
   "outputs": [],
   "source": []
  },
  {
   "cell_type": "code",
   "execution_count": null,
   "metadata": {},
   "outputs": [],
   "source": [
    "gray = getScreenDepthVis()\n",
    "# slice the image so we only check what we are headed into (and not what is down on the ground below us).\n",
    "\n",
    "top = np.vsplit(gray, 2)[0]\n",
    "\n",
    "# now look at 4 horizontal bands (far left, left, right, far right) and see which is most open.\n",
    "# the depth map uses black for far away (0) and white for very close (255), so we invert that\n",
    "# to get an estimate of distance.\n",
    "bands = np.hsplit(top, [50,100,150,200]);\n",
    "maxes = [np.max(x) for x in bands]\n",
    "min = np.argmin(maxes)    \n",
    "distance = 255 - maxes[min]\n",
    "\n",
    "# sanity check on what is directly in front of us (slot 2 in our hsplit)\n",
    "current = 255 - maxes[2]"
   ]
  },
  {
   "cell_type": "code",
   "execution_count": null,
   "metadata": {},
   "outputs": [],
   "source": [
    "bands"
   ]
  },
  {
   "cell_type": "code",
   "execution_count": null,
   "metadata": {},
   "outputs": [],
   "source": [
    "plt.imshow(gray,plt.cm.gray)"
   ]
  },
  {
   "cell_type": "code",
   "execution_count": 5,
   "metadata": {},
   "outputs": [
    {
     "name": "stdout",
     "output_type": "stream",
     "text": [
      "max distance= 107\n",
      "distance= 107\n",
      "switching angle 215.99995903307672 -0.40450870732285976 -0.2938923369194729 <built-in function min> 127 107\n",
      "max distance= 107\n",
      "distance= 107\n",
      "max distance= 185\n",
      "distance= 185\n",
      "switching angle -107.5013546854304 -0.15036417441890074 -0.47685492033879906 <built-in function min> 209 185\n",
      "max distance= 200\n",
      "distance= 200\n",
      "max distance= 193\n",
      "distance= 193\n",
      "max distance= 193\n",
      "distance= 193\n",
      "max distance= 185\n",
      "distance= 185\n",
      "max distance= 178\n",
      "distance= 178\n",
      "max distance= 178\n",
      "distance= 178\n",
      "max distance= 164\n",
      "distance= 164\n",
      "max distance= 144\n",
      "distance= 144\n",
      "switching angle -71.5011122267247 0.1586431237345445 -0.47416490727567134 <built-in function min> 170 144\n",
      "max distance= 151\n",
      "distance= 151\n",
      "switching angle -91.07138983485274 -0.009349095234157 -0.49991258677723116 <built-in function min> 170 151\n",
      "max distance= 164\n",
      "distance= 164\n",
      "max distance= 151\n",
      "distance= 151\n",
      "max distance= 127\n",
      "distance= 127\n",
      "max distance= 144\n",
      "distance= 144\n",
      "switching angle -109.07081585041158 -0.16336826892344977 -0.47255773055676004 <built-in function min> 170 144\n",
      "max distance= 170\n",
      "distance= 170\n",
      "max distance= 157\n",
      "distance= 157\n",
      "max distance= 170\n",
      "distance= 170\n",
      "max distance= 151\n",
      "distance= 151\n",
      "switching angle -127.0703627006168 -0.3013976710287034 -0.39894792128606643 <built-in function min> 170 151\n",
      "max distance= 127\n",
      "distance= 127\n",
      "switching angle -143.92123927819335 -0.40410412035962573 -0.29444839939855866 <built-in function min> 157 127\n",
      "max distance= 122\n",
      "distance= 122\n",
      "switching angle -178.6237602840562 -0.49985576786361213 -0.012008802333235433 <built-in function min> 217 122\n",
      "max distance= 200\n",
      "distance= 200\n",
      "max distance= 193\n",
      "distance= 193\n",
      "max distance= 170\n",
      "distance= 170\n",
      "switching angle -196.6370238416547 -0.47906888301136596 0.1431537821024724 <built-in function min> 217 170\n",
      "max distance= 209\n",
      "distance= 209\n",
      "max distance= 200\n",
      "distance= 200\n",
      "max distance= 193\n",
      "distance= 193\n",
      "max distance= 178\n",
      "distance= 178\n",
      "switching angle 145.36058521992052 -0.41137277202162204 0.28420493035703404 <built-in function min> 193 178\n",
      "max distance= 193\n",
      "distance= 193\n",
      "max distance= 193\n",
      "distance= 193\n",
      "max distance= 217\n",
      "distance= 217\n",
      "max distance= 209\n",
      "distance= 209\n",
      "max distance= 209\n",
      "distance= 209\n",
      "max distance= 200\n",
      "distance= 200\n",
      "max distance= 193\n",
      "distance= 193\n",
      "max distance= 178\n",
      "distance= 178\n",
      "switching angle 181.36045052538694 -0.4998590581899034 -0.011871054944814042 <built-in function min> 200 178\n",
      "max distance= 193\n",
      "distance= 193\n",
      "max distance= 209\n",
      "distance= 209\n",
      "max distance= 209\n",
      "distance= 209\n",
      "max distance= 200\n",
      "distance= 200\n",
      "max distance= 193\n",
      "distance= 193\n",
      "switching angle -160.63925737124615 -0.47172501174906684 -0.1657573928678379 <built-in function min> 209 193\n",
      "max distance= 209\n",
      "distance= 209\n",
      "switching angle -143.39058228311086 -0.4013597313818839 -0.298178413076906 <built-in function min> 235 209\n",
      "max distance= 226\n",
      "distance= 226\n",
      "max distance= 209\n",
      "distance= 209\n",
      "max distance= 209\n",
      "distance= 209\n",
      "max distance= 235\n",
      "distance= 235\n",
      "max distance= 226\n",
      "distance= 226\n",
      "max distance= 226\n",
      "distance= 226\n",
      "max distance= 226\n",
      "distance= 226\n",
      "max distance= 217\n",
      "distance= 217\n",
      "max distance= 217\n",
      "distance= 217\n",
      "max distance= 217\n",
      "distance= 217\n",
      "switching angle -161.39051492828133 -0.47385779733537 -0.1595581019706346 <built-in function min> 235 217\n",
      "max distance= 226\n",
      "distance= 226\n",
      "max distance= 226\n",
      "distance= 226\n",
      "max distance= 226\n",
      "distance= 226\n",
      "max distance= 226\n",
      "distance= 226\n",
      "max distance= 217\n",
      "distance= 217\n",
      "max distance= 217\n",
      "distance= 217\n",
      "max distance= 217\n",
      "distance= 217\n",
      "max distance= 209\n",
      "distance= 209\n",
      "max distance= 209\n",
      "distance= 209\n",
      "switching angle -125.39051035822523 -0.28957307922712544 -0.40761186413906175 <built-in function min> 235 209\n",
      "max distance= 235\n",
      "distance= 235\n",
      "max distance= 226\n",
      "distance= 226\n",
      "max distance= 226\n",
      "distance= 226\n",
      "max distance= 226\n",
      "distance= 226\n",
      "max distance= 226\n",
      "distance= 226\n",
      "max distance= 226\n",
      "distance= 226\n",
      "max distance= 226\n",
      "distance= 226\n",
      "max distance= 226\n",
      "distance= 226\n",
      "max distance= 217\n",
      "distance= 217\n",
      "max distance= 217\n",
      "distance= 217\n",
      "max distance= 217\n",
      "distance= 217\n",
      "max distance= 217\n",
      "distance= 217\n",
      "max distance= 209\n",
      "distance= 209\n",
      "max distance= 209\n",
      "distance= 209\n",
      "max distance= 200\n",
      "distance= 200\n",
      "max distance= 193\n",
      "distance= 193\n",
      "switching angle -161.39040468314127 -0.4738574903222582 -0.15955901373940284 <built-in function min> 217 193\n",
      "max distance= 217\n",
      "distance= 217\n",
      "max distance= 217\n",
      "distance= 217\n",
      "max distance= 209\n",
      "distance= 209\n",
      "switching angle -125.41033227453293 -0.2897140783597723 -0.40751165971067344 <built-in function min> 235 209\n",
      "max distance= 226\n",
      "distance= 226\n",
      "max distance= 217\n",
      "distance= 217\n",
      "max distance= 226\n",
      "distance= 226\n",
      "max distance= 217\n",
      "distance= 217\n",
      "max distance= 217\n",
      "distance= 217\n",
      "max distance= 217\n",
      "distance= 217\n",
      "max distance= 209\n",
      "distance= 209\n",
      "max distance= 200\n",
      "distance= 200\n",
      "switching angle -107.41023460813103 -0.14960562057655866 -0.47709344817541016 <built-in function min> 217 200\n",
      "max distance= 217\n",
      "distance= 217\n",
      "max distance= 209\n",
      "distance= 209\n",
      "max distance= 200\n",
      "distance= 200\n",
      "max distance= 193\n",
      "distance= 193\n",
      "max distance= 185\n",
      "distance= 185\n",
      "switching angle -125.4097497016411 -0.2897099348415913 -0.4075146054487874 <built-in function min> 209 185\n",
      "max distance= 185\n",
      "distance= 185\n",
      "max distance= 178\n",
      "distance= 178\n",
      "max distance= 178\n",
      "distance= 178\n",
      "switching angle -143.4185351103329 -0.40150515557661365 -0.2979825666803333 <built-in function min> 226 178\n",
      "max distance= 226\n",
      "distance= 226\n",
      "max distance= 226\n",
      "distance= 226\n",
      "max distance= 217\n",
      "distance= 217\n",
      "max distance= 217\n",
      "distance= 217\n",
      "max distance= 217\n",
      "distance= 217\n",
      "max distance= 209\n",
      "distance= 209\n",
      "switching angle -125.41847419756449 -0.2897719842122807 -0.407470486251063 <built-in function min> 235 209\n",
      "max distance= 200\n",
      "distance= 200\n",
      "switching angle -162.28375677890187 -0.4762876251506756 -0.15215156301638685 <built-in function min> 235 200\n",
      "max distance= 217\n",
      "distance= 217\n",
      "max distance= 217\n",
      "distance= 217\n",
      "max distance= 217\n",
      "distance= 217\n",
      "max distance= 226\n",
      "distance= 226\n",
      "max distance= 226\n",
      "distance= 226\n",
      "max distance= 217\n",
      "distance= 217\n",
      "max distance= 217\n",
      "distance= 217\n",
      "max distance= 217\n",
      "distance= 217\n",
      "max distance= 209\n",
      "distance= 209\n",
      "max distance= 200\n",
      "distance= 200\n",
      "max distance= 200\n",
      "distance= 200\n",
      "max distance= 185\n",
      "distance= 185\n",
      "max distance= 178\n",
      "distance= 178\n",
      "switching angle -144.28376702456185 -0.40595908303266076 -0.291885633259469 <built-in function min> 235 178\n",
      "max distance= 235\n",
      "distance= 235\n",
      "max distance= 235\n",
      "distance= 235\n",
      "max distance= 235\n",
      "distance= 235\n"
     ]
    },
    {
     "ename": "KeyboardInterrupt",
     "evalue": "",
     "output_type": "error",
     "traceback": [
      "\u001b[1;31m---------------------------------------------------------------------------\u001b[0m",
      "\u001b[1;31mKeyboardInterrupt\u001b[0m                         Traceback (most recent call last)",
      "\u001b[1;32m<ipython-input-5-1a5655f6f5cf>\u001b[0m in \u001b[0;36m<module>\u001b[1;34m()\u001b[0m\n\u001b[0;32m     13\u001b[0m \u001b[1;31m#         png = cv2.imdecode(rawImage, cv2.IMREAD_UNCHANGED)\u001b[0m\u001b[1;33m\u001b[0m\u001b[1;33m\u001b[0m\u001b[0m\n\u001b[0;32m     14\u001b[0m \u001b[1;31m#         gray = cv2.cvtColor(png, cv2.COLOR_BGR2GRAY)\u001b[0m\u001b[1;33m\u001b[0m\u001b[1;33m\u001b[0m\u001b[0m\n\u001b[1;32m---> 15\u001b[1;33m         \u001b[0mgray\u001b[0m \u001b[1;33m=\u001b[0m \u001b[0mgetScreenDepthVis\u001b[0m\u001b[1;33m(\u001b[0m\u001b[1;33m)\u001b[0m\u001b[1;33m\u001b[0m\u001b[0m\n\u001b[0m\u001b[0;32m     16\u001b[0m         \u001b[1;31m# slice the image so we only check what we are headed into (and not what is down on the ground below us).\u001b[0m\u001b[1;33m\u001b[0m\u001b[1;33m\u001b[0m\u001b[0m\n\u001b[0;32m     17\u001b[0m         \u001b[0mtop\u001b[0m \u001b[1;33m=\u001b[0m \u001b[0mnp\u001b[0m\u001b[1;33m.\u001b[0m\u001b[0mvstack\u001b[0m\u001b[1;33m(\u001b[0m\u001b[1;33m(\u001b[0m\u001b[0mnp\u001b[0m\u001b[1;33m.\u001b[0m\u001b[0mvsplit\u001b[0m\u001b[1;33m(\u001b[0m\u001b[0mgray\u001b[0m\u001b[1;33m,\u001b[0m \u001b[1;36m3\u001b[0m\u001b[1;33m)\u001b[0m\u001b[1;33m[\u001b[0m\u001b[1;36m0\u001b[0m\u001b[1;33m]\u001b[0m\u001b[1;33m,\u001b[0m\u001b[0mnp\u001b[0m\u001b[1;33m.\u001b[0m\u001b[0mvsplit\u001b[0m\u001b[1;33m(\u001b[0m\u001b[0mgray\u001b[0m\u001b[1;33m,\u001b[0m \u001b[1;36m3\u001b[0m\u001b[1;33m)\u001b[0m\u001b[1;33m[\u001b[0m\u001b[1;36m1\u001b[0m\u001b[1;33m]\u001b[0m\u001b[1;33m)\u001b[0m\u001b[1;33m)\u001b[0m\u001b[1;33m\u001b[0m\u001b[0m\n",
      "\u001b[1;32m<ipython-input-2-01f06ccb1cda>\u001b[0m in \u001b[0;36mgetScreenDepthVis\u001b[1;34m()\u001b[0m\n\u001b[0;32m      3\u001b[0m \u001b[1;32mdef\u001b[0m \u001b[0mgetScreenDepthVis\u001b[0m\u001b[1;33m(\u001b[0m\u001b[1;33m)\u001b[0m\u001b[1;33m:\u001b[0m\u001b[1;33m\u001b[0m\u001b[0m\n\u001b[0;32m      4\u001b[0m \u001b[1;33m\u001b[0m\u001b[0m\n\u001b[1;32m----> 5\u001b[1;33m     \u001b[0mresponses\u001b[0m \u001b[1;33m=\u001b[0m \u001b[0mclient\u001b[0m\u001b[1;33m.\u001b[0m\u001b[0msimGetImages\u001b[0m\u001b[1;33m(\u001b[0m\u001b[1;33m[\u001b[0m\u001b[0mairsim\u001b[0m\u001b[1;33m.\u001b[0m\u001b[0mImageRequest\u001b[0m\u001b[1;33m(\u001b[0m\u001b[1;36m0\u001b[0m\u001b[1;33m,\u001b[0m \u001b[0mairsim\u001b[0m\u001b[1;33m.\u001b[0m\u001b[0mImageType\u001b[0m\u001b[1;33m.\u001b[0m\u001b[0mDepthPerspective\u001b[0m\u001b[1;33m,\u001b[0m \u001b[1;32mTrue\u001b[0m\u001b[1;33m,\u001b[0m \u001b[1;32mFalse\u001b[0m\u001b[1;33m)\u001b[0m\u001b[1;33m]\u001b[0m\u001b[1;33m)\u001b[0m\u001b[1;33m\u001b[0m\u001b[0m\n\u001b[0m\u001b[0;32m      6\u001b[0m     \u001b[0mimg1d\u001b[0m \u001b[1;33m=\u001b[0m \u001b[0mnp\u001b[0m\u001b[1;33m.\u001b[0m\u001b[0marray\u001b[0m\u001b[1;33m(\u001b[0m\u001b[0mresponses\u001b[0m\u001b[1;33m[\u001b[0m\u001b[1;36m0\u001b[0m\u001b[1;33m]\u001b[0m\u001b[1;33m.\u001b[0m\u001b[0mimage_data_float\u001b[0m\u001b[1;33m,\u001b[0m \u001b[0mdtype\u001b[0m\u001b[1;33m=\u001b[0m\u001b[0mnp\u001b[0m\u001b[1;33m.\u001b[0m\u001b[0mfloat\u001b[0m\u001b[1;33m)\u001b[0m\u001b[1;33m\u001b[0m\u001b[0m\n\u001b[0;32m      7\u001b[0m     \u001b[0mimg1d\u001b[0m \u001b[1;33m=\u001b[0m \u001b[1;36m255\u001b[0m\u001b[1;33m/\u001b[0m\u001b[0mnp\u001b[0m\u001b[1;33m.\u001b[0m\u001b[0mmaximum\u001b[0m\u001b[1;33m(\u001b[0m\u001b[0mnp\u001b[0m\u001b[1;33m.\u001b[0m\u001b[0mones\u001b[0m\u001b[1;33m(\u001b[0m\u001b[0mimg1d\u001b[0m\u001b[1;33m.\u001b[0m\u001b[0msize\u001b[0m\u001b[1;33m)\u001b[0m\u001b[1;33m,\u001b[0m \u001b[0mimg1d\u001b[0m\u001b[1;33m)\u001b[0m\u001b[1;33m\u001b[0m\u001b[0m\n",
      "\u001b[1;32mD:\\jupyter_dir\\Airsim\\PythonClient\\airsim\\client.py\u001b[0m in \u001b[0;36msimGetImages\u001b[1;34m(self, requests, vehicle_name)\u001b[0m\n\u001b[0;32m    105\u001b[0m     \u001b[1;31m# image_type uses one of the ImageType members\u001b[0m\u001b[1;33m\u001b[0m\u001b[1;33m\u001b[0m\u001b[0m\n\u001b[0;32m    106\u001b[0m     \u001b[1;32mdef\u001b[0m \u001b[0msimGetImages\u001b[0m\u001b[1;33m(\u001b[0m\u001b[0mself\u001b[0m\u001b[1;33m,\u001b[0m \u001b[0mrequests\u001b[0m\u001b[1;33m,\u001b[0m \u001b[0mvehicle_name\u001b[0m \u001b[1;33m=\u001b[0m \u001b[1;34m''\u001b[0m\u001b[1;33m)\u001b[0m\u001b[1;33m:\u001b[0m\u001b[1;33m\u001b[0m\u001b[0m\n\u001b[1;32m--> 107\u001b[1;33m         \u001b[0mresponses_raw\u001b[0m \u001b[1;33m=\u001b[0m \u001b[0mself\u001b[0m\u001b[1;33m.\u001b[0m\u001b[0mclient\u001b[0m\u001b[1;33m.\u001b[0m\u001b[0mcall\u001b[0m\u001b[1;33m(\u001b[0m\u001b[1;34m'simGetImages'\u001b[0m\u001b[1;33m,\u001b[0m \u001b[0mrequests\u001b[0m\u001b[1;33m,\u001b[0m \u001b[0mvehicle_name\u001b[0m\u001b[1;33m)\u001b[0m\u001b[1;33m\u001b[0m\u001b[0m\n\u001b[0m\u001b[0;32m    108\u001b[0m         \u001b[1;32mreturn\u001b[0m \u001b[1;33m[\u001b[0m\u001b[0mImageResponse\u001b[0m\u001b[1;33m.\u001b[0m\u001b[0mfrom_msgpack\u001b[0m\u001b[1;33m(\u001b[0m\u001b[0mresponse_raw\u001b[0m\u001b[1;33m)\u001b[0m \u001b[1;32mfor\u001b[0m \u001b[0mresponse_raw\u001b[0m \u001b[1;32min\u001b[0m \u001b[0mresponses_raw\u001b[0m\u001b[1;33m]\u001b[0m\u001b[1;33m\u001b[0m\u001b[0m\n\u001b[0;32m    109\u001b[0m \u001b[1;33m\u001b[0m\u001b[0m\n",
      "\u001b[1;32m~\\AppData\\Roaming\\Python\\Python36\\site-packages\\msgpackrpc\\session.py\u001b[0m in \u001b[0;36mcall\u001b[1;34m(self, method, *args)\u001b[0m\n\u001b[0;32m     39\u001b[0m \u001b[1;33m\u001b[0m\u001b[0m\n\u001b[0;32m     40\u001b[0m     \u001b[1;32mdef\u001b[0m \u001b[0mcall\u001b[0m\u001b[1;33m(\u001b[0m\u001b[0mself\u001b[0m\u001b[1;33m,\u001b[0m \u001b[0mmethod\u001b[0m\u001b[1;33m,\u001b[0m \u001b[1;33m*\u001b[0m\u001b[0margs\u001b[0m\u001b[1;33m)\u001b[0m\u001b[1;33m:\u001b[0m\u001b[1;33m\u001b[0m\u001b[0m\n\u001b[1;32m---> 41\u001b[1;33m         \u001b[1;32mreturn\u001b[0m \u001b[0mself\u001b[0m\u001b[1;33m.\u001b[0m\u001b[0msend_request\u001b[0m\u001b[1;33m(\u001b[0m\u001b[0mmethod\u001b[0m\u001b[1;33m,\u001b[0m \u001b[0margs\u001b[0m\u001b[1;33m)\u001b[0m\u001b[1;33m.\u001b[0m\u001b[0mget\u001b[0m\u001b[1;33m(\u001b[0m\u001b[1;33m)\u001b[0m\u001b[1;33m\u001b[0m\u001b[0m\n\u001b[0m\u001b[0;32m     42\u001b[0m \u001b[1;33m\u001b[0m\u001b[0m\n\u001b[0;32m     43\u001b[0m     \u001b[1;32mdef\u001b[0m \u001b[0mcall_async\u001b[0m\u001b[1;33m(\u001b[0m\u001b[0mself\u001b[0m\u001b[1;33m,\u001b[0m \u001b[0mmethod\u001b[0m\u001b[1;33m,\u001b[0m \u001b[1;33m*\u001b[0m\u001b[0margs\u001b[0m\u001b[1;33m)\u001b[0m\u001b[1;33m:\u001b[0m\u001b[1;33m\u001b[0m\u001b[0m\n",
      "\u001b[1;32m~\\AppData\\Roaming\\Python\\Python36\\site-packages\\msgpackrpc\\future.py\u001b[0m in \u001b[0;36mget\u001b[1;34m(self)\u001b[0m\n\u001b[0;32m     23\u001b[0m \u001b[1;33m\u001b[0m\u001b[0m\n\u001b[0;32m     24\u001b[0m     \u001b[1;32mdef\u001b[0m \u001b[0mget\u001b[0m\u001b[1;33m(\u001b[0m\u001b[0mself\u001b[0m\u001b[1;33m)\u001b[0m\u001b[1;33m:\u001b[0m\u001b[1;33m\u001b[0m\u001b[0m\n\u001b[1;32m---> 25\u001b[1;33m         \u001b[0mself\u001b[0m\u001b[1;33m.\u001b[0m\u001b[0mjoin\u001b[0m\u001b[1;33m(\u001b[0m\u001b[1;33m)\u001b[0m\u001b[1;33m\u001b[0m\u001b[0m\n\u001b[0m\u001b[0;32m     26\u001b[0m \u001b[1;33m\u001b[0m\u001b[0m\n\u001b[0;32m     27\u001b[0m         \u001b[1;32massert\u001b[0m \u001b[0mself\u001b[0m\u001b[1;33m.\u001b[0m\u001b[0m_set_flag\u001b[0m \u001b[1;33m==\u001b[0m \u001b[1;32mTrue\u001b[0m\u001b[1;33m\u001b[0m\u001b[0m\n",
      "\u001b[1;32m~\\AppData\\Roaming\\Python\\Python36\\site-packages\\msgpackrpc\\future.py\u001b[0m in \u001b[0;36mjoin\u001b[1;34m(self)\u001b[0m\n\u001b[0;32m     20\u001b[0m     \u001b[1;32mdef\u001b[0m \u001b[0mjoin\u001b[0m\u001b[1;33m(\u001b[0m\u001b[0mself\u001b[0m\u001b[1;33m)\u001b[0m\u001b[1;33m:\u001b[0m\u001b[1;33m\u001b[0m\u001b[0m\n\u001b[0;32m     21\u001b[0m         \u001b[1;32mwhile\u001b[0m \u001b[1;33m(\u001b[0m\u001b[1;32mnot\u001b[0m \u001b[0mself\u001b[0m\u001b[1;33m.\u001b[0m\u001b[0m_set_flag\u001b[0m\u001b[1;33m)\u001b[0m\u001b[1;33m:\u001b[0m\u001b[1;33m\u001b[0m\u001b[0m\n\u001b[1;32m---> 22\u001b[1;33m             \u001b[0mself\u001b[0m\u001b[1;33m.\u001b[0m\u001b[0m_loop\u001b[0m\u001b[1;33m.\u001b[0m\u001b[0mstart\u001b[0m\u001b[1;33m(\u001b[0m\u001b[1;33m)\u001b[0m\u001b[1;33m\u001b[0m\u001b[0m\n\u001b[0m\u001b[0;32m     23\u001b[0m \u001b[1;33m\u001b[0m\u001b[0m\n\u001b[0;32m     24\u001b[0m     \u001b[1;32mdef\u001b[0m \u001b[0mget\u001b[0m\u001b[1;33m(\u001b[0m\u001b[0mself\u001b[0m\u001b[1;33m)\u001b[0m\u001b[1;33m:\u001b[0m\u001b[1;33m\u001b[0m\u001b[0m\n",
      "\u001b[1;32m~\\AppData\\Roaming\\Python\\Python36\\site-packages\\msgpackrpc\\loop.py\u001b[0m in \u001b[0;36mstart\u001b[1;34m(self)\u001b[0m\n\u001b[0;32m     20\u001b[0m         \"\"\"\n\u001b[0;32m     21\u001b[0m \u001b[1;33m\u001b[0m\u001b[0m\n\u001b[1;32m---> 22\u001b[1;33m         \u001b[0mself\u001b[0m\u001b[1;33m.\u001b[0m\u001b[0m_ioloop\u001b[0m\u001b[1;33m.\u001b[0m\u001b[0mstart\u001b[0m\u001b[1;33m(\u001b[0m\u001b[1;33m)\u001b[0m\u001b[1;33m\u001b[0m\u001b[0m\n\u001b[0m\u001b[0;32m     23\u001b[0m \u001b[1;33m\u001b[0m\u001b[0m\n\u001b[0;32m     24\u001b[0m     \u001b[1;32mdef\u001b[0m \u001b[0mstop\u001b[0m\u001b[1;33m(\u001b[0m\u001b[0mself\u001b[0m\u001b[1;33m)\u001b[0m\u001b[1;33m:\u001b[0m\u001b[1;33m\u001b[0m\u001b[0m\n",
      "\u001b[1;32m~\\AppData\\Roaming\\Python\\Python36\\site-packages\\tornado\\ioloop.py\u001b[0m in \u001b[0;36mstart\u001b[1;34m(self)\u001b[0m\n\u001b[0;32m    861\u001b[0m \u001b[1;33m\u001b[0m\u001b[0m\n\u001b[0;32m    862\u001b[0m                 \u001b[1;32mtry\u001b[0m\u001b[1;33m:\u001b[0m\u001b[1;33m\u001b[0m\u001b[0m\n\u001b[1;32m--> 863\u001b[1;33m                     \u001b[0mevent_pairs\u001b[0m \u001b[1;33m=\u001b[0m \u001b[0mself\u001b[0m\u001b[1;33m.\u001b[0m\u001b[0m_impl\u001b[0m\u001b[1;33m.\u001b[0m\u001b[0mpoll\u001b[0m\u001b[1;33m(\u001b[0m\u001b[0mpoll_timeout\u001b[0m\u001b[1;33m)\u001b[0m\u001b[1;33m\u001b[0m\u001b[0m\n\u001b[0m\u001b[0;32m    864\u001b[0m                 \u001b[1;32mexcept\u001b[0m \u001b[0mException\u001b[0m \u001b[1;32mas\u001b[0m \u001b[0me\u001b[0m\u001b[1;33m:\u001b[0m\u001b[1;33m\u001b[0m\u001b[0m\n\u001b[0;32m    865\u001b[0m                     \u001b[1;31m# Depending on python version and IOLoop implementation,\u001b[0m\u001b[1;33m\u001b[0m\u001b[1;33m\u001b[0m\u001b[0m\n",
      "\u001b[1;32m~\\AppData\\Roaming\\Python\\Python36\\site-packages\\tornado\\platform\\select.py\u001b[0m in \u001b[0;36mpoll\u001b[1;34m(self, timeout)\u001b[0m\n\u001b[0;32m     61\u001b[0m     \u001b[1;32mdef\u001b[0m \u001b[0mpoll\u001b[0m\u001b[1;33m(\u001b[0m\u001b[0mself\u001b[0m\u001b[1;33m,\u001b[0m \u001b[0mtimeout\u001b[0m\u001b[1;33m)\u001b[0m\u001b[1;33m:\u001b[0m\u001b[1;33m\u001b[0m\u001b[0m\n\u001b[0;32m     62\u001b[0m         readable, writeable, errors = select.select(\n\u001b[1;32m---> 63\u001b[1;33m             self.read_fds, self.write_fds, self.error_fds, timeout)\n\u001b[0m\u001b[0;32m     64\u001b[0m         \u001b[0mevents\u001b[0m \u001b[1;33m=\u001b[0m \u001b[1;33m{\u001b[0m\u001b[1;33m}\u001b[0m\u001b[1;33m\u001b[0m\u001b[0m\n\u001b[0;32m     65\u001b[0m         \u001b[1;32mfor\u001b[0m \u001b[0mfd\u001b[0m \u001b[1;32min\u001b[0m \u001b[0mreadable\u001b[0m\u001b[1;33m:\u001b[0m\u001b[1;33m\u001b[0m\u001b[0m\n",
      "\u001b[1;31mKeyboardInterrupt\u001b[0m: "
     ]
    }
   ],
   "source": [
    "fly_speed=10\n",
    "turn_speed=0.5\n",
    "while True:\n",
    "    # this will return png width= 256, height= 144\n",
    "    result = client.simGetImage(\"0\", airsim.ImageType.DepthVis)\n",
    "    if (result == \"\\0\"):\n",
    "        if (not help):\n",
    "            help = True\n",
    "            print(\"Please press '1' in the AirSim view to enable the Depth camera view\")\n",
    "    else:    \n",
    "#         rawImage = np.fromstring(result, np.int8)\n",
    "#         print(\"rawImage is\",rawImage)\n",
    "#         png = cv2.imdecode(rawImage, cv2.IMREAD_UNCHANGED)\n",
    "#         gray = cv2.cvtColor(png, cv2.COLOR_BGR2GRAY)\n",
    "        gray = getScreenDepthVis()\n",
    "        # slice the image so we only check what we are headed into (and not what is down on the ground below us).\n",
    "        top = np.vstack((np.vsplit(gray, 3)[0],np.vsplit(gray, 3)[1]))\n",
    "        #top = np.vsplit(gray, 3)[0]\n",
    "\n",
    "        # now look at 4 horizontal bands (far left, left, right, far right) and see which is most open.\n",
    "        # the depth map uses black for close (0) and white for far away(255), so we invert that\n",
    "        # to get an estimate of distance.\n",
    "        bands = np.hsplit(top, [50,100,150,200]);\n",
    "        mins = [np.min(x) for x in bands]\n",
    "        max = np.argmax(mins)    \n",
    "        distance = mins[max]\n",
    "\n",
    "        # sanity check on what is directly in front of us (slot 2 in our hsplit)\n",
    "        current = mins[2]\n",
    "        print (\"max distance=\", current)\n",
    "        print (\"distance=\", current)\n",
    "#         if (current <20):\n",
    "#             client.hoverAsync().join()\n",
    "#             airsim.wait_key(\"whoops - we are about to crash, so stopping!\")\n",
    "    \n",
    "        pitch, roll, yaw  = airsim.to_eularian_angles(client.simGetVehiclePose().orientation)\n",
    "\n",
    "        if (distance > current + 10):\n",
    "        \n",
    "            # we have a 90 degree field of view (pi/2), we've sliced that into 5 chunks, each chunk then represents\n",
    "            # an angular delta of the following pi/10.\n",
    "            change = 0\n",
    "            driving = max\n",
    "            if (max == 0):\n",
    "                change = -2 * pi / 10\n",
    "            elif (max == 1):\n",
    "                change = -pi / 10\n",
    "            elif (max == 2):\n",
    "                change = 0 # center strip, go straight\n",
    "            elif (max == 3):\n",
    "                change = pi / 10\n",
    "            else:\n",
    "                change = 2*pi/10\n",
    "    \n",
    "            yaw = (yaw + change)\n",
    "            vx = turn_speed*math.cos(yaw);\n",
    "            vy = turn_speed*math.sin(yaw);\n",
    "            print (\"switching angle\", math.degrees(yaw), vx, vy, min, distance, current)\n",
    "    \n",
    "        if (vx == 0 and vy == 0):\n",
    "            vx = math.cos(yaw);\n",
    "            vy = math.sin(yaw);\n",
    "\n",
    "        #print (\"distance=\", current)\n",
    "        client.moveByVelocityZAsync(fly_speed*vx, fly_speed*vy,-25, 1, airsim.DrivetrainType.ForwardOnly, airsim.YawMode(False, 0)).join()\n",
    "\n",
    "        x = int(driving * 50)\n",
    "        cv2.rectangle(gray, (x,0), (x+50,50), (0,255,0), 2)\n",
    "        cv2.imshow(\"Top\", top)\n",
    "\n",
    "    key = cv2.waitKey(1) & 0xFF;\n",
    "    if (key == 27 or key == ord('q') or key == ord('x')):\n",
    "        break;\n",
    "        \n"
   ]
  },
  {
   "cell_type": "code",
   "execution_count": null,
   "metadata": {},
   "outputs": [],
   "source": [
    "bands"
   ]
  },
  {
   "cell_type": "code",
   "execution_count": null,
   "metadata": {},
   "outputs": [],
   "source": []
  },
  {
   "cell_type": "code",
   "execution_count": null,
   "metadata": {},
   "outputs": [],
   "source": [
    "rawImage = np.fromstring(result, np.int8)"
   ]
  }
 ],
 "metadata": {
  "kernelspec": {
   "display_name": "Python 3",
   "language": "python",
   "name": "python3"
  },
  "language_info": {
   "codemirror_mode": {
    "name": "ipython",
    "version": 3
   },
   "file_extension": ".py",
   "mimetype": "text/x-python",
   "name": "python",
   "nbconvert_exporter": "python",
   "pygments_lexer": "ipython3",
   "version": "3.6.5"
  }
 },
 "nbformat": 4,
 "nbformat_minor": 2
}
