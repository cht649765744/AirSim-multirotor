{
 "cells": [
  {
   "cell_type": "code",
   "execution_count": 3,
   "metadata": {},
   "outputs": [],
   "source": [
    "import setup_path \n",
    "import airsim\n",
    "\n",
    "import sys\n",
    "import time\n",
    "import argparse\n",
    "\n"
   ]
  },
  {
   "cell_type": "code",
   "execution_count": 4,
   "metadata": {},
   "outputs": [
    {
     "name": "stderr",
     "output_type": "stream",
     "text": [
      "usage: Usage: survey boxsize stripewidth altitude [-h] [--size SIZE]\n",
      "                                                  [--stripewidth STRIPEWIDTH]\n",
      "                                                  [--altitude ALTITUDE]\n",
      "                                                  [--speed SPEED]\n",
      "Usage: survey boxsize stripewidth altitude: error: unrecognized arguments: C:\\Users\\64976\\AppData\\Roaming\\jupyter\\runtime\\kernel-664eba58-6d4d-4dd3-aebf-c5ef98d58c87.json\n"
     ]
    },
    {
     "ename": "SystemExit",
     "evalue": "2",
     "output_type": "error",
     "traceback": [
      "An exception has occurred, use %tb to see the full traceback.\n",
      "\u001b[1;31mSystemExit\u001b[0m\u001b[1;31m:\u001b[0m 2\n"
     ]
    },
    {
     "name": "stderr",
     "output_type": "stream",
     "text": [
      "E:\\Anaconda\\lib\\site-packages\\IPython\\core\\interactiveshell.py:2971: UserWarning: To exit: use 'exit', 'quit', or Ctrl-D.\n",
      "  warn(\"To exit: use 'exit', 'quit', or Ctrl-D.\", stacklevel=1)\n"
     ]
    }
   ],
   "source": [
    "class SurveyNavigator:\n",
    "    def __init__(self, args):\n",
    "        self.boxsize = args.size\n",
    "        self.stripewidth = args.stripewidth\n",
    "        self.altitude = args.altitude\n",
    "        self.velocity = args.speed\n",
    "        self.client = airsim.MultirotorClient()\n",
    "        self.client.confirmConnection()\n",
    "        self.client.enableApiControl(True)\n",
    "\n",
    "    def start(self):\n",
    "        print(\"arming the drone...\")\n",
    "        self.client.armDisarm(True)\n",
    "\n",
    "        landed = self.client.getMultirotorState().landed_state\n",
    "        if landed == airsim.LandedState.Landed:\n",
    "            print(\"taking off...\")\n",
    "            self.client.takeoffAsync().join()\n",
    "\n",
    "        landed = self.client.getMultirotorState().landed_state\n",
    "        if landed == airsim.LandedState.Landed:\n",
    "            print(\"takeoff failed - check Unreal message log for details\")\n",
    "            return\n",
    "        \n",
    "        # AirSim uses NED coordinates so negative axis is up.\n",
    "        x = -self.boxsize\n",
    "        z = -self.altitude\n",
    "\n",
    "        print(\"climbing to altitude: \" + str(self.altitude))\n",
    "        self.client.moveToPositionAsync(0, 0, z, self.velocity).join()\n",
    "\n",
    "        print(\"flying to first corner of survey box\")\n",
    "        self.client.moveToPositionAsync(x, -self.boxsize, z, self.velocity).join()\n",
    "        \n",
    "        # let it settle there a bit.\n",
    "        self.client.hoverAsync().join()\n",
    "        time.sleep(2)\n",
    "\n",
    "        # after hovering we need to re-enabled api control for next leg of the trip\n",
    "        self.client.enableApiControl(True)\n",
    "\n",
    "        # now compute the survey path required to fill the box \n",
    "        path = []\n",
    "        distance = 0\n",
    "        while x < self.boxsize:\n",
    "            distance += self.boxsize \n",
    "            path.append(airsim.Vector3r(x, self.boxsize, z))\n",
    "            x += self.stripewidth            \n",
    "            distance += self.stripewidth \n",
    "            path.append(airsim.Vector3r(x, self.boxsize, z))\n",
    "            distance += self.boxsize \n",
    "            path.append(airsim.Vector3r(x, -self.boxsize, z)) \n",
    "            x += self.stripewidth  \n",
    "            distance += self.stripewidth \n",
    "            path.append(airsim.Vector3r(x, -self.boxsize, z))\n",
    "            distance += self.boxsize \n",
    "        \n",
    "        print(\"starting survey, estimated distance is \" + str(distance))\n",
    "        trip_time = distance / self.velocity\n",
    "        print(\"estimated survey time is \" + str(trip_time))\n",
    "        try:\n",
    "            result = self.client.moveOnPathAsync(path, self.velocity, trip_time, airsim.DrivetrainType.ForwardOnly, \n",
    "                airsim.YawMode(False,0), self.velocity + (self.velocity/2), 1).join()\n",
    "        except:\n",
    "            errorType, value, traceback = sys.exc_info()\n",
    "            print(\"moveOnPath threw exception: \" + str(value))\n",
    "            pass\n",
    "\n",
    "        print(\"flying back home\")\n",
    "        self.client.moveToPositionAsync(0, 0, z, self.velocity).join()\n",
    "        \n",
    "        if z < -5:\n",
    "            print(\"descending\")\n",
    "            self.client.moveToPositionAsync(0, 0, -5, 2).join()\n",
    "\n",
    "        print(\"landing...\")\n",
    "        self.client.landAsync().join()\n",
    "\n",
    "        print(\"disarming.\")\n",
    "        self.client.armDisarm(False)\n",
    "\n",
    "if __name__ == \"__main__\":\n",
    "    args = sys.argv\n",
    "    args.pop(0)\n",
    "    arg_parser = argparse.ArgumentParser(\"Usage: survey boxsize stripewidth altitude\")\n",
    "    arg_parser.add_argument(\"--size\", type=float, help=\"size of the box to survey\", default=50)\n",
    "    arg_parser.add_argument(\"--stripewidth\", type=float, help=\"stripe width of survey (in meters)\", default=10)\n",
    "    arg_parser.add_argument(\"--altitude\", type=float, help=\"altitude of survey (in positive meters)\", default=30)\n",
    "    arg_parser.add_argument(\"--speed\", type=float, help=\"speed of survey (in meters/second)\", default=5)\n",
    "    args = arg_parser.parse_args(args)\n",
    "    nav = SurveyNavigator(args)\n",
    "    nav.start()"
   ]
  },
  {
   "cell_type": "code",
   "execution_count": null,
   "metadata": {},
   "outputs": [],
   "source": []
  }
 ],
 "metadata": {
  "kernelspec": {
   "display_name": "Python 3",
   "language": "python",
   "name": "python3"
  },
  "language_info": {
   "codemirror_mode": {
    "name": "ipython",
    "version": 3
   },
   "file_extension": ".py",
   "mimetype": "text/x-python",
   "name": "python",
   "nbconvert_exporter": "python",
   "pygments_lexer": "ipython3",
   "version": "3.6.5"
  }
 },
 "nbformat": 4,
 "nbformat_minor": 2
}
