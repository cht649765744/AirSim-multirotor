{
 "cells": [
  {
   "cell_type": "code",
   "execution_count": 1,
   "metadata": {},
   "outputs": [],
   "source": [
    "import setup_path \n",
    "import airsim\n",
    "\n",
    "import numpy as np\n",
    "import os\n",
    "import tempfile\n",
    "import pprint\n",
    "import cv2"
   ]
  },
  {
   "cell_type": "code",
   "execution_count": 2,
   "metadata": {},
   "outputs": [
    {
     "name": "stdout",
     "output_type": "stream",
     "text": [
      "Connected!\n",
      "Client Ver:1 (Min Req: 1), Server Ver:1 (Min Req: 1)\n",
      "\n"
     ]
    },
    {
     "data": {
      "text/plain": [
       "True"
      ]
     },
     "execution_count": 2,
     "metadata": {},
     "output_type": "execute_result"
    }
   ],
   "source": [
    "# connect to the AirSim simulator\n",
    "client = airsim.MultirotorClient()\n",
    "client.confirmConnection()\n",
    "client.enableApiControl(True)\n",
    "client.armDisarm(True)"
   ]
  },
  {
   "cell_type": "code",
   "execution_count": 3,
   "metadata": {},
   "outputs": [
    {
     "name": "stdout",
     "output_type": "stream",
     "text": [
      "state: <MultirotorState> {   'collision': <CollisionInfo> {   'has_collided': False,\n",
      "    'impact_point': <Vector3r> {   'x_val': 0.0,\n",
      "    'y_val': 0.0,\n",
      "    'z_val': 0.0},\n",
      "    'normal': <Vector3r> {   'x_val': 0.0,\n",
      "    'y_val': 0.0,\n",
      "    'z_val': 0.0},\n",
      "    'object_id': -1,\n",
      "    'object_name': '',\n",
      "    'penetration_depth': 0.0,\n",
      "    'position': <Vector3r> {   'x_val': 0.0,\n",
      "    'y_val': 0.0,\n",
      "    'z_val': 0.0},\n",
      "    'time_stamp': 0},\n",
      "    'gps_location': <GeoPoint> {   'altitude': 123.34166717529297,\n",
      "    'latitude': 47.64197914136833,\n",
      "    'longitude': -122.14017833284416},\n",
      "    'kinematics_estimated': <KinematicsState> {   'angular_acceleration': <Vector3r> {   'x_val': 0.0,\n",
      "    'y_val': 0.0,\n",
      "    'z_val': 0.0},\n",
      "    'angular_velocity': <Vector3r> {   'x_val': 0.0,\n",
      "    'y_val': 0.0,\n",
      "    'z_val': 0.0},\n",
      "    'linear_acceleration': <Vector3r> {   'x_val': 0.0,\n",
      "    'y_val': 0.0,\n",
      "    'z_val': 0.0},\n",
      "    'linear_velocity': <Vector3r> {   'x_val': 0.0,\n",
      "    'y_val': 0.0,\n",
      "    'z_val': 0.0},\n",
      "    'orientation': <Quaternionr> {   'w_val': 1.0,\n",
      "    'x_val': 0.0,\n",
      "    'y_val': 0.0,\n",
      "    'z_val': 0.0},\n",
      "    'position': <Vector3r> {   'x_val': 0.0,\n",
      "    'y_val': 0.0,\n",
      "    'z_val': 0.6783297061920166}},\n",
      "    'landed_state': 0,\n",
      "    'rc_data': <RCData> {   'is_initialized': False,\n",
      "    'is_valid': False,\n",
      "    'left_z': 0.0,\n",
      "    'pitch': 0.0,\n",
      "    'right_z': 0.0,\n",
      "    'roll': 0.0,\n",
      "    'switches': 0,\n",
      "    'throttle': 0.0,\n",
      "    'timestamp': 0,\n",
      "    'vendor_id': '',\n",
      "    'yaw': 0.0},\n",
      "    'timestamp': 1581799479622435840}\n",
      "imu_data: <ImuData> {   'angular_velocity': <Vector3r> {   'x_val': -0.0005407718708738685,\n",
      "    'y_val': -0.0021500936709344387,\n",
      "    'z_val': 0.002688233507797122},\n",
      "    'linear_acceleration': <Vector3r> {   'x_val': 0.05468420311808586,\n",
      "    'y_val': 0.030771583318710327,\n",
      "    'z_val': -9.870441436767578},\n",
      "    'orientation': <Quaternionr> {   'w_val': 1.0,\n",
      "    'x_val': 0.0,\n",
      "    'y_val': 0.0,\n",
      "    'z_val': 0.0},\n",
      "    'time_stamp': 1581799479625435904}\n",
      "barometer_data: <BarometerData> {   'altitude': 123.60147857666016,\n",
      "    'pressure': 99848.328125,\n",
      "    'qnh': 1013.25,\n",
      "    'time_stamp': 1581799479625435904}\n",
      "magnetometer_data: <MagnetometerData> {   'magnetic_field_body': <Vector3r> {   'x_val': 0.2588304579257965,\n",
      "    'y_val': 0.04837467521429062,\n",
      "    'z_val': 0.37314125895500183},\n",
      "    'magnetic_field_covariance': [   ],\n",
      "    'time_stamp': 1581799479625435904}\n",
      "gps_data: <GpsData> {   'gnss': <GnssReport> {   'eph': 0.3000044822692871,\n",
      "    'epv': 0.40000447630882263,\n",
      "    'fix_type': 3,\n",
      "    'geo_point': <GeoPoint> {   'altitude': 123.34166717529297,\n",
      "    'latitude': 47.64197914136833,\n",
      "    'longitude': -122.14017833284416},\n",
      "    'time_utc': 1581799479409431,\n",
      "    'velocity': <Vector3r> {   'x_val': 0.0,\n",
      "    'y_val': 0.0,\n",
      "    'z_val': 0.0}},\n",
      "    'is_valid': True,\n",
      "    'time_stamp': 1581799479409431296}\n"
     ]
    }
   ],
   "source": [
    "state = client.getMultirotorState()\n",
    "s = pprint.pformat(state)\n",
    "print(\"state: %s\" % s)\n",
    "\n",
    "imu_data = client.getImuData()\n",
    "s = pprint.pformat(imu_data)\n",
    "print(\"imu_data: %s\" % s)\n",
    "\n",
    "barometer_data = client.getBarometerData()\n",
    "s = pprint.pformat(barometer_data)\n",
    "print(\"barometer_data: %s\" % s)\n",
    "\n",
    "magnetometer_data = client.getMagnetometerData()\n",
    "s = pprint.pformat(magnetometer_data)\n",
    "print(\"magnetometer_data: %s\" % s)\n",
    "\n",
    "gps_data = client.getGpsData()\n",
    "s = pprint.pformat(gps_data)\n",
    "print(\"gps_data: %s\" % s)\n",
    "\n"
   ]
  },
  {
   "cell_type": "code",
   "execution_count": 5,
   "metadata": {},
   "outputs": [
    {
     "ename": "RuntimeError",
     "evalue": "IOLoop is already running",
     "output_type": "error",
     "traceback": [
      "\u001b[1;31m---------------------------------------------------------------------------\u001b[0m",
      "\u001b[1;31mRuntimeError\u001b[0m                              Traceback (most recent call last)",
      "\u001b[1;32m<ipython-input-5-d70d9e733c45>\u001b[0m in \u001b[0;36m<module>\u001b[1;34m()\u001b[0m\n\u001b[0;32m      1\u001b[0m \u001b[1;31m##Take off\u001b[0m\u001b[1;33m\u001b[0m\u001b[1;33m\u001b[0m\u001b[0m\n\u001b[1;32m----> 2\u001b[1;33m \u001b[0mclient\u001b[0m\u001b[1;33m.\u001b[0m\u001b[0mtakeoffAsync\u001b[0m\u001b[1;33m(\u001b[0m\u001b[1;33m)\u001b[0m\u001b[1;33m.\u001b[0m\u001b[0mjoin\u001b[0m\u001b[1;33m(\u001b[0m\u001b[1;33m)\u001b[0m\u001b[1;33m\u001b[0m\u001b[0m\n\u001b[0m\u001b[0;32m      3\u001b[0m \u001b[0mstate\u001b[0m \u001b[1;33m=\u001b[0m \u001b[0mclient\u001b[0m\u001b[1;33m.\u001b[0m\u001b[0mgetMultirotorState\u001b[0m\u001b[1;33m(\u001b[0m\u001b[1;33m)\u001b[0m\u001b[1;33m\u001b[0m\u001b[0m\n\u001b[0;32m      4\u001b[0m \u001b[0mclient\u001b[0m\u001b[1;33m.\u001b[0m\u001b[0mhoverAsync\u001b[0m\u001b[1;33m(\u001b[0m\u001b[1;33m)\u001b[0m\u001b[1;33m.\u001b[0m\u001b[0mjoin\u001b[0m\u001b[1;33m(\u001b[0m\u001b[1;33m)\u001b[0m\u001b[1;33m\u001b[0m\u001b[0m\n",
      "\u001b[1;32m~\\AppData\\Roaming\\Python\\Python36\\site-packages\\msgpackrpc\\future.py\u001b[0m in \u001b[0;36mjoin\u001b[1;34m(self)\u001b[0m\n\u001b[0;32m     20\u001b[0m     \u001b[1;32mdef\u001b[0m \u001b[0mjoin\u001b[0m\u001b[1;33m(\u001b[0m\u001b[0mself\u001b[0m\u001b[1;33m)\u001b[0m\u001b[1;33m:\u001b[0m\u001b[1;33m\u001b[0m\u001b[0m\n\u001b[0;32m     21\u001b[0m         \u001b[1;32mwhile\u001b[0m \u001b[1;33m(\u001b[0m\u001b[1;32mnot\u001b[0m \u001b[0mself\u001b[0m\u001b[1;33m.\u001b[0m\u001b[0m_set_flag\u001b[0m\u001b[1;33m)\u001b[0m\u001b[1;33m:\u001b[0m\u001b[1;33m\u001b[0m\u001b[0m\n\u001b[1;32m---> 22\u001b[1;33m             \u001b[0mself\u001b[0m\u001b[1;33m.\u001b[0m\u001b[0m_loop\u001b[0m\u001b[1;33m.\u001b[0m\u001b[0mstart\u001b[0m\u001b[1;33m(\u001b[0m\u001b[1;33m)\u001b[0m\u001b[1;33m\u001b[0m\u001b[0m\n\u001b[0m\u001b[0;32m     23\u001b[0m \u001b[1;33m\u001b[0m\u001b[0m\n\u001b[0;32m     24\u001b[0m     \u001b[1;32mdef\u001b[0m \u001b[0mget\u001b[0m\u001b[1;33m(\u001b[0m\u001b[0mself\u001b[0m\u001b[1;33m)\u001b[0m\u001b[1;33m:\u001b[0m\u001b[1;33m\u001b[0m\u001b[0m\n",
      "\u001b[1;32m~\\AppData\\Roaming\\Python\\Python36\\site-packages\\msgpackrpc\\loop.py\u001b[0m in \u001b[0;36mstart\u001b[1;34m(self)\u001b[0m\n\u001b[0;32m     20\u001b[0m         \"\"\"\n\u001b[0;32m     21\u001b[0m \u001b[1;33m\u001b[0m\u001b[0m\n\u001b[1;32m---> 22\u001b[1;33m         \u001b[0mself\u001b[0m\u001b[1;33m.\u001b[0m\u001b[0m_ioloop\u001b[0m\u001b[1;33m.\u001b[0m\u001b[0mstart\u001b[0m\u001b[1;33m(\u001b[0m\u001b[1;33m)\u001b[0m\u001b[1;33m\u001b[0m\u001b[0m\n\u001b[0m\u001b[0;32m     23\u001b[0m \u001b[1;33m\u001b[0m\u001b[0m\n\u001b[0;32m     24\u001b[0m     \u001b[1;32mdef\u001b[0m \u001b[0mstop\u001b[0m\u001b[1;33m(\u001b[0m\u001b[0mself\u001b[0m\u001b[1;33m)\u001b[0m\u001b[1;33m:\u001b[0m\u001b[1;33m\u001b[0m\u001b[0m\n",
      "\u001b[1;32m~\\AppData\\Roaming\\Python\\Python36\\site-packages\\tornado\\ioloop.py\u001b[0m in \u001b[0;36mstart\u001b[1;34m(self)\u001b[0m\n\u001b[0;32m    753\u001b[0m     \u001b[1;32mdef\u001b[0m \u001b[0mstart\u001b[0m\u001b[1;33m(\u001b[0m\u001b[0mself\u001b[0m\u001b[1;33m)\u001b[0m\u001b[1;33m:\u001b[0m\u001b[1;33m\u001b[0m\u001b[0m\n\u001b[0;32m    754\u001b[0m         \u001b[1;32mif\u001b[0m \u001b[0mself\u001b[0m\u001b[1;33m.\u001b[0m\u001b[0m_running\u001b[0m\u001b[1;33m:\u001b[0m\u001b[1;33m\u001b[0m\u001b[0m\n\u001b[1;32m--> 755\u001b[1;33m             \u001b[1;32mraise\u001b[0m \u001b[0mRuntimeError\u001b[0m\u001b[1;33m(\u001b[0m\u001b[1;34m\"IOLoop is already running\"\u001b[0m\u001b[1;33m)\u001b[0m\u001b[1;33m\u001b[0m\u001b[0m\n\u001b[0m\u001b[0;32m    756\u001b[0m         \u001b[0mself\u001b[0m\u001b[1;33m.\u001b[0m\u001b[0m_setup_logging\u001b[0m\u001b[1;33m(\u001b[0m\u001b[1;33m)\u001b[0m\u001b[1;33m\u001b[0m\u001b[0m\n\u001b[0;32m    757\u001b[0m         \u001b[1;32mif\u001b[0m \u001b[0mself\u001b[0m\u001b[1;33m.\u001b[0m\u001b[0m_stopped\u001b[0m\u001b[1;33m:\u001b[0m\u001b[1;33m\u001b[0m\u001b[0m\n",
      "\u001b[1;31mRuntimeError\u001b[0m: IOLoop is already running"
     ]
    }
   ],
   "source": [
    "##Take off\n",
    "client.takeoffAsync().join()\n",
    "state = client.getMultirotorState()\n",
    "client.hoverAsync().join()"
   ]
  },
  {
   "cell_type": "code",
   "execution_count": null,
   "metadata": {},
   "outputs": [],
   "source": [
    "##print(\"state after taking off: %s\" % pprint.pformat(state))"
   ]
  },
  {
   "cell_type": "code",
   "execution_count": null,
   "metadata": {},
   "outputs": [],
   "source": [
    "## Move to position\n",
    "client.moveToPositionAsync(-10, 10, -10, 5).join()"
   ]
  },
  {
   "cell_type": "code",
   "execution_count": null,
   "metadata": {},
   "outputs": [],
   "source": [
    "client.moveToPositionAsync(0, 0, 0, 5).join()"
   ]
  },
  {
   "cell_type": "code",
   "execution_count": 6,
   "metadata": {},
   "outputs": [
    {
     "ename": "RuntimeError",
     "evalue": "IOLoop is already running",
     "output_type": "error",
     "traceback": [
      "\u001b[1;31m---------------------------------------------------------------------------\u001b[0m",
      "\u001b[1;31mRuntimeError\u001b[0m                              Traceback (most recent call last)",
      "\u001b[1;32m<ipython-input-6-f971b448af6e>\u001b[0m in \u001b[0;36m<module>\u001b[1;34m()\u001b[0m\n\u001b[1;32m----> 1\u001b[1;33m \u001b[0mclient\u001b[0m\u001b[1;33m.\u001b[0m\u001b[0mmoveToPositionAsync\u001b[0m\u001b[1;33m(\u001b[0m\u001b[1;33m-\u001b[0m\u001b[1;36m10\u001b[0m\u001b[1;33m,\u001b[0m \u001b[1;36m10\u001b[0m\u001b[1;33m,\u001b[0m \u001b[1;36m0\u001b[0m\u001b[1;33m,\u001b[0m \u001b[1;36m5\u001b[0m\u001b[1;33m)\u001b[0m\u001b[1;33m.\u001b[0m\u001b[0mjoin\u001b[0m\u001b[1;33m(\u001b[0m\u001b[1;33m)\u001b[0m\u001b[1;33m\u001b[0m\u001b[0m\n\u001b[0m",
      "\u001b[1;32m~\\AppData\\Roaming\\Python\\Python36\\site-packages\\msgpackrpc\\future.py\u001b[0m in \u001b[0;36mjoin\u001b[1;34m(self)\u001b[0m\n\u001b[0;32m     20\u001b[0m     \u001b[1;32mdef\u001b[0m \u001b[0mjoin\u001b[0m\u001b[1;33m(\u001b[0m\u001b[0mself\u001b[0m\u001b[1;33m)\u001b[0m\u001b[1;33m:\u001b[0m\u001b[1;33m\u001b[0m\u001b[0m\n\u001b[0;32m     21\u001b[0m         \u001b[1;32mwhile\u001b[0m \u001b[1;33m(\u001b[0m\u001b[1;32mnot\u001b[0m \u001b[0mself\u001b[0m\u001b[1;33m.\u001b[0m\u001b[0m_set_flag\u001b[0m\u001b[1;33m)\u001b[0m\u001b[1;33m:\u001b[0m\u001b[1;33m\u001b[0m\u001b[0m\n\u001b[1;32m---> 22\u001b[1;33m             \u001b[0mself\u001b[0m\u001b[1;33m.\u001b[0m\u001b[0m_loop\u001b[0m\u001b[1;33m.\u001b[0m\u001b[0mstart\u001b[0m\u001b[1;33m(\u001b[0m\u001b[1;33m)\u001b[0m\u001b[1;33m\u001b[0m\u001b[0m\n\u001b[0m\u001b[0;32m     23\u001b[0m \u001b[1;33m\u001b[0m\u001b[0m\n\u001b[0;32m     24\u001b[0m     \u001b[1;32mdef\u001b[0m \u001b[0mget\u001b[0m\u001b[1;33m(\u001b[0m\u001b[0mself\u001b[0m\u001b[1;33m)\u001b[0m\u001b[1;33m:\u001b[0m\u001b[1;33m\u001b[0m\u001b[0m\n",
      "\u001b[1;32m~\\AppData\\Roaming\\Python\\Python36\\site-packages\\msgpackrpc\\loop.py\u001b[0m in \u001b[0;36mstart\u001b[1;34m(self)\u001b[0m\n\u001b[0;32m     20\u001b[0m         \"\"\"\n\u001b[0;32m     21\u001b[0m \u001b[1;33m\u001b[0m\u001b[0m\n\u001b[1;32m---> 22\u001b[1;33m         \u001b[0mself\u001b[0m\u001b[1;33m.\u001b[0m\u001b[0m_ioloop\u001b[0m\u001b[1;33m.\u001b[0m\u001b[0mstart\u001b[0m\u001b[1;33m(\u001b[0m\u001b[1;33m)\u001b[0m\u001b[1;33m\u001b[0m\u001b[0m\n\u001b[0m\u001b[0;32m     23\u001b[0m \u001b[1;33m\u001b[0m\u001b[0m\n\u001b[0;32m     24\u001b[0m     \u001b[1;32mdef\u001b[0m \u001b[0mstop\u001b[0m\u001b[1;33m(\u001b[0m\u001b[0mself\u001b[0m\u001b[1;33m)\u001b[0m\u001b[1;33m:\u001b[0m\u001b[1;33m\u001b[0m\u001b[0m\n",
      "\u001b[1;32m~\\AppData\\Roaming\\Python\\Python36\\site-packages\\tornado\\ioloop.py\u001b[0m in \u001b[0;36mstart\u001b[1;34m(self)\u001b[0m\n\u001b[0;32m    753\u001b[0m     \u001b[1;32mdef\u001b[0m \u001b[0mstart\u001b[0m\u001b[1;33m(\u001b[0m\u001b[0mself\u001b[0m\u001b[1;33m)\u001b[0m\u001b[1;33m:\u001b[0m\u001b[1;33m\u001b[0m\u001b[0m\n\u001b[0;32m    754\u001b[0m         \u001b[1;32mif\u001b[0m \u001b[0mself\u001b[0m\u001b[1;33m.\u001b[0m\u001b[0m_running\u001b[0m\u001b[1;33m:\u001b[0m\u001b[1;33m\u001b[0m\u001b[0m\n\u001b[1;32m--> 755\u001b[1;33m             \u001b[1;32mraise\u001b[0m \u001b[0mRuntimeError\u001b[0m\u001b[1;33m(\u001b[0m\u001b[1;34m\"IOLoop is already running\"\u001b[0m\u001b[1;33m)\u001b[0m\u001b[1;33m\u001b[0m\u001b[0m\n\u001b[0m\u001b[0;32m    756\u001b[0m         \u001b[0mself\u001b[0m\u001b[1;33m.\u001b[0m\u001b[0m_setup_logging\u001b[0m\u001b[1;33m(\u001b[0m\u001b[1;33m)\u001b[0m\u001b[1;33m\u001b[0m\u001b[0m\n\u001b[0;32m    757\u001b[0m         \u001b[1;32mif\u001b[0m \u001b[0mself\u001b[0m\u001b[1;33m.\u001b[0m\u001b[0m_stopped\u001b[0m\u001b[1;33m:\u001b[0m\u001b[1;33m\u001b[0m\u001b[0m\n",
      "\u001b[1;31mRuntimeError\u001b[0m: IOLoop is already running"
     ]
    }
   ],
   "source": [
    "client.moveToPositionAsync(-10, 10, 0, 5).join()"
   ]
  },
  {
   "cell_type": "code",
   "execution_count": null,
   "metadata": {},
   "outputs": [],
   "source": [
    "##Land\n",
    "client.landAsync().join()"
   ]
  },
  {
   "cell_type": "code",
   "execution_count": null,
   "metadata": {},
   "outputs": [],
   "source": [
    "#\n",
    "client.goHomeAsync().join()"
   ]
  },
  {
   "cell_type": "code",
   "execution_count": null,
   "metadata": {},
   "outputs": [],
   "source": [
    "## Move by velocity\n",
    "client.moveByVelocityAsync(0,100,0,5).join()"
   ]
  },
  {
   "cell_type": "code",
   "execution_count": null,
   "metadata": {},
   "outputs": [],
   "source": [
    "type(client)"
   ]
  },
  {
   "cell_type": "code",
   "execution_count": null,
   "metadata": {},
   "outputs": [],
   "source": [
    "client.moveToPositionAsync(-10, 10, -10, 5).join()\n",
    "client.hoverAsync().join()"
   ]
  },
  {
   "cell_type": "code",
   "execution_count": null,
   "metadata": {},
   "outputs": [],
   "source": [
    "client.armDisarm(False)\n",
    "client.reset()"
   ]
  },
  {
   "cell_type": "code",
   "execution_count": null,
   "metadata": {},
   "outputs": [],
   "source": [
    "airsim.wait_key('Press any key to takeoff')\n",
    "client.takeoffAsync().join()\n",
    "\n",
    "state = client.getMultirotorState()\n",
    "print(\"state: %s\" % pprint.pformat(state))\n",
    "\n",
    "airsim.wait_key('Press any key to move vehicle to (-10, 10, -10) at 5 m/s')\n",
    "client.moveToPositionAsync(-10, 10, -10, 5).join()\n",
    "\n",
    "client.hoverAsync().join()\n",
    "\n",
    "state = client.getMultirotorState()\n",
    "print(\"state: %s\" % pprint.pformat(state))\n",
    "\n",
    "airsim.wait_key('Press any key to take images')"
   ]
  },
  {
   "cell_type": "code",
   "execution_count": null,
   "metadata": {},
   "outputs": [],
   "source": [
    "import setup_path \n",
    "import airsim\n",
    "\n",
    "import numpy as np\n",
    "import os\n",
    "import tempfile\n",
    "import pprint\n",
    "import cv2\n",
    "\n",
    "# connect to the AirSim simulator\n",
    "client = airsim.MultirotorClient()\n",
    "client.confirmConnection()\n",
    "client.enableApiControl(True)\n",
    "client.armDisarm(True)\n",
    "\n",
    "state = client.getMultirotorState()\n",
    "s = pprint.pformat(state)\n",
    "print(\"state: %s\" % s)\n",
    "\n",
    "imu_data = client.getImuData()\n",
    "s = pprint.pformat(imu_data)\n",
    "print(\"imu_data: %s\" % s)\n",
    "\n",
    "barometer_data = client.getBarometerData()\n",
    "s = pprint.pformat(barometer_data)\n",
    "print(\"barometer_data: %s\" % s)\n",
    "\n",
    "magnetometer_data = client.getMagnetometerData()\n",
    "s = pprint.pformat(magnetometer_data)\n",
    "print(\"magnetometer_data: %s\" % s)\n",
    "\n",
    "gps_data = client.getGpsData()\n",
    "s = pprint.pformat(gps_data)\n",
    "print(\"gps_data: %s\" % s)\n",
    "\n",
    "airsim.wait_key('Press any key to takeoff')\n",
    "client.takeoffAsync().join()\n",
    "\n",
    "state = client.getMultirotorState()\n",
    "print(\"state: %s\" % pprint.pformat(state))\n",
    "\n",
    "airsim.wait_key('Press any key to move vehicle to (-10, 10, -10) at 5 m/s')\n",
    "client.moveToPositionAsync(-10, 10, -10, 5).join()\n",
    "\n",
    "client.hoverAsync().join()\n",
    "\n",
    "state = client.getMultirotorState()\n",
    "print(\"state: %s\" % pprint.pformat(state))\n",
    "\n",
    "airsim.wait_key('Press any key to take images')\n",
    "# get camera images from the car\n",
    "responses = client.simGetImages([\n",
    "    airsim.ImageRequest(\"0\", airsim.ImageType.DepthVis),  #depth visualization image\n",
    "    airsim.ImageRequest(\"1\", airsim.ImageType.DepthPerspective, True), #depth in perspective projection\n",
    "    airsim.ImageRequest(\"1\", airsim.ImageType.Scene), #scene vision image in png format\n",
    "    airsim.ImageRequest(\"1\", airsim.ImageType.Scene, False, False)])  #scene vision image in uncompressed RGBA array\n",
    "print('Retrieved images: %d' % len(responses))\n",
    "\n",
    "tmp_dir = os.path.join(tempfile.gettempdir(), \"airsim_drone\")\n",
    "print (\"Saving images to %s\" % tmp_dir)\n",
    "try:\n",
    "    os.makedirs(tmp_dir)\n",
    "except OSError:\n",
    "    if not os.path.isdir(tmp_dir):\n",
    "        raise\n",
    "\n",
    "for idx, response in enumerate(responses):\n",
    "\n",
    "    filename = os.path.join(tmp_dir, str(idx))\n",
    "\n",
    "    if response.pixels_as_float:\n",
    "        print(\"Type %d, size %d\" % (response.image_type, len(response.image_data_float)))\n",
    "        airsim.write_pfm(os.path.normpath(filename + '.pfm'), airsim.get_pfm_array(response))\n",
    "    elif response.compress: #png format\n",
    "        print(\"Type %d, size %d\" % (response.image_type, len(response.image_data_uint8)))\n",
    "        airsim.write_file(os.path.normpath(filename + '.png'), response.image_data_uint8)\n",
    "    else: #uncompressed array\n",
    "        print(\"Type %d, size %d\" % (response.image_type, len(response.image_data_uint8)))\n",
    "        img1d = np.fromstring(response.image_data_uint8, dtype=np.uint8) # get numpy array\n",
    "        img_rgb = img1d.reshape(response.height, response.width, 3) # reshape array to 4 channel image array H X W X 3\n",
    "        cv2.imwrite(os.path.normpath(filename + '.png'), img_rgb) # write to png\n",
    "\n",
    "airsim.wait_key('Press any key to reset to original state')\n",
    "\n",
    "client.armDisarm(False)\n",
    "client.reset()\n",
    "\n",
    "# that's enough fun for now. let's quit cleanly\n",
    "client.enableApiControl(False)\n"
   ]
  }
 ],
 "metadata": {
  "kernelspec": {
   "display_name": "Python 3",
   "language": "python",
   "name": "python3"
  },
  "language_info": {
   "codemirror_mode": {
    "name": "ipython",
    "version": 3
   },
   "file_extension": ".py",
   "mimetype": "text/x-python",
   "name": "python",
   "nbconvert_exporter": "python",
   "pygments_lexer": "ipython3",
   "version": "3.6.5"
  }
 },
 "nbformat": 4,
 "nbformat_minor": 2
}
